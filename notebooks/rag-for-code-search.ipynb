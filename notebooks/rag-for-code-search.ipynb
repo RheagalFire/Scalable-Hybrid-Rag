{
 "cells": [
  {
   "cell_type": "code",
   "execution_count": 1,
   "metadata": {},
   "outputs": [],
   "source": [
    "## Uncomment and install these dependencies\n",
    "# %pip install -U fastembed\n",
    "# %pip install -U datasets\n",
    "# %pip install -U qdrant-client"
   ]
  },
  {
   "cell_type": "code",
   "execution_count": 2,
   "metadata": {},
   "outputs": [],
   "source": [
    "#fastembed is a fast and lightweight library creating embeddings.\n",
    "from fastembed import (\n",
    "    TextEmbedding\n",
    ")"
   ]
  },
  {
   "cell_type": "markdown",
   "metadata": {},
   "source": [
    "### Embedding Models"
   ]
  },
  {
   "cell_type": "code",
   "execution_count": 3,
   "metadata": {},
   "outputs": [],
   "source": [
    "# Unimodal english model\n",
    "text_model = TextEmbedding(\n",
    "    model_name=\"sentence-transformers/all-MiniLM-L6-v2\",\n",
    ")\n",
    "# Unimodal code model\n",
    "code_model = TextEmbedding(\n",
    "    model_name = \"jinaai/jina-embeddings-v2-base-code\"\n",
    ")"
   ]
  },
  {
   "cell_type": "code",
   "execution_count": 4,
   "metadata": {},
   "outputs": [
    {
     "name": "stdout",
     "output_type": "stream",
     "text": [
      "text embedding length:  384\n"
     ]
    }
   ],
   "source": [
    "# sample representation \n",
    "text_embeddings = list(text_model.embed([\"Hello, world!\"*100]*256))\n",
    "text_embeddings_dim = len(text_embeddings[0])\n",
    "print(\"text embedding length: \",text_embeddings_dim)\n"
   ]
  },
  {
   "cell_type": "code",
   "execution_count": 5,
   "metadata": {},
   "outputs": [
    {
     "name": "stdout",
     "output_type": "stream",
     "text": [
      "code embedding length:  768\n"
     ]
    }
   ],
   "source": [
    "code_embeddings = list(code_model.embed([\"print('Hello, world!')\"*100]*10,max_length=1024))\n",
    "code_embeddings_dim = len(code_embeddings[0])\n",
    "print(\"code embedding length: \",code_embeddings_dim)"
   ]
  },
  {
   "cell_type": "markdown",
   "metadata": {},
   "source": [
    "### Dataset"
   ]
  },
  {
   "cell_type": "markdown",
   "metadata": {},
   "source": [
    "This dataset contains Problem , sample test cases and thier submissions from Codeforces. \n",
    "We will filter out the submissions which have verdict other than \"OK\" and then concatenate the problem description, input-specification, output-specification, demo-input, and demo-output into one string.\n"
   ]
  },
  {
   "cell_type": "code",
   "execution_count": 4,
   "metadata": {},
   "outputs": [
    {
     "name": "stderr",
     "output_type": "stream",
     "text": [
      "Using the latest cached version of the dataset since MatrixStudio/Codeforces-Python-Submissions couldn't be found on the Hugging Face Hub\n",
      "Found the latest cached dataset configuration 'default' at /Users/abcom/.cache/huggingface/datasets/MatrixStudio___Codeforces-Python-Submissions/default/0.0.0/8764ee1b76dcbebed1c6b327c046ebb74219ff95 (last modified on Tue Feb 18 18:16:53 2025).\n"
     ]
    }
   ],
   "source": [
    "from datasets import load_dataset\n",
    "\n",
    "ds = load_dataset(\"MatrixStudio/Codeforces-Python-Submissions\",split=\"train\")"
   ]
  },
  {
   "cell_type": "code",
   "execution_count": 87,
   "metadata": {},
   "outputs": [
    {
     "data": {
      "text/plain": [
       "{'contestId': 604,\n",
       " 'index': 'A',\n",
       " 'name': 'Uncowed Forces',\n",
       " 'type': 'PROGRAMMING',\n",
       " 'rating': 1000,\n",
       " 'tags': ['implementation'],\n",
       " 'title': '',\n",
       " 'time-limit': None,\n",
       " 'memory-limit': None,\n",
       " 'problem-description': \"Kevin Sun has just finished competing in Codeforces Round #334! The round was 120 minutes long and featured five problems with maximum point values of 500, 1000, 1500, 2000, and 2500, respectively. Despite the challenging tasks, Kevin was uncowed and bulldozed through all of them, distinguishing himself from the herd as the best cowmputer scientist in all of Bovinia. Kevin knows his submission time for each problem, the number of wrong submissions that he made on each problem, and his total numbers of successful and unsuccessful hacks. Because Codeforces scoring is complicated, Kevin wants you to write a program to compute his final score.\\n\\nCodeforces scores are computed as follows: If the maximum point value of a problem is *x*, and Kevin submitted correctly at minute *m* but made *w* wrong submissions, then his score on that problem is . His total score is equal to the sum of his scores for each problem. In addition, Kevin's total score gets increased by 100 points for each successful hack, but gets decreased by 50 points for each unsuccessful hack.\\n\\nAll arithmetic operations are performed with absolute precision and no rounding. It is guaranteed that Kevin's final score is an integer.\",\n",
       " 'input-specification': \"The first line of the input contains five space-separated integers *m*1, *m*2, *m*3, *m*4, *m*5, where *m**i* (0<=≤<=*m**i*<=≤<=119) is the time of Kevin's last submission for problem *i*. His last submission is always correct and gets accepted.\\n\\nThe second line contains five space-separated integers *w*1, *w*2, *w*3, *w*4, *w*5, where *w**i* (0<=≤<=*w**i*<=≤<=10) is Kevin's number of wrong submissions on problem *i*.\\n\\nThe last line contains two space-separated integers *h**s* and *h**u* (0<=≤<=*h**s*,<=*h**u*<=≤<=20), denoting the Kevin's numbers of successful and unsuccessful hacks, respectively.\",\n",
       " 'output-specification': \"Print a single integer, the value of Kevin's final score.\",\n",
       " 'demo-input': ['20 40 60 80 100\\n0 1 2 3 4\\n1 0\\n',\n",
       "  '119 119 119 119 119\\n0 0 0 0 0\\n10 0\\n'],\n",
       " 'demo-output': ['4900\\n', '4930\\n'],\n",
       " 'note': 'In the second sample, Kevin takes 119 minutes on all of the problems. Therefore, he gets <img align=\"middle\" class=\"tex-formula\" src=\"https://espresso.codeforces.com/42158dc2bc78cd21fa679530ae9ef8b9ea298d15.png\" style=\"max-width: 100.0%;max-height: 100.0%;\"/> of the points on each problem. So his score from solving problems is <img align=\"middle\" class=\"tex-formula\" src=\"https://espresso.codeforces.com/fdf392d8508500b57f8057ac0c4c892ab5f925a2.png\" style=\"max-width: 100.0%;max-height: 100.0%;\"/>. Adding in 10·100\\u2009=\\u20091000 points from hacks, his total score becomes 3930\\u2009+\\u20091000\\u2009=\\u20094930.',\n",
       " 'points': 500.0,\n",
       " 'test_cases': [{'input': '20 40 60 80 100\\n0 1 2 3 4\\n1 0', 'output': '4900'},\n",
       "  {'input': '119 119 119 119 119\\n0 0 0 0 0\\n10 0', 'output': '4930'},\n",
       "  {'input': '3 6 13 38 60\\n6 10 10 3 8\\n9 9', 'output': '5088'},\n",
       "  {'input': '21 44 11 68 75\\n6 2 4 8 4\\n2 8', 'output': '4522'},\n",
       "  {'input': '16 112 50 114 68\\n1 4 8 4 9\\n19 11', 'output': '5178'},\n",
       "  {'input': '55 66 75 44 47\\n6 0 6 6 10\\n19 0', 'output': '6414'},\n",
       "  {'input': '47 11 88 5 110\\n6 10 4 2 3\\n10 6', 'output': '5188'},\n",
       "  {'input': '5 44 61 103 92\\n9 0 10 4 8\\n15 7', 'output': '4914'},\n",
       "  {'input': '115 53 96 62 110\\n7 8 1 7 9\\n7 16', 'output': '3416'},\n",
       "  {'input': '102 83 26 6 11\\n3 4 1 8 3\\n17 14', 'output': '6704'},\n",
       "  {'input': '36 102 73 101 19\\n5 9 2 2 6\\n4 13', 'output': '4292'},\n",
       "  {'input': '40 115 93 107 113\\n5 7 2 6 8\\n6 17', 'output': '2876'},\n",
       "  {'input': '53 34 53 107 81\\n4 3 1 10 8\\n7 7', 'output': '4324'},\n",
       "  {'input': '113 37 4 84 66\\n2 0 10 3 0\\n20 19', 'output': '6070'},\n",
       "  {'input': '10 53 101 62 1\\n8 0 9 7 9\\n0 11', 'output': '4032'},\n",
       "  {'input': '45 45 75 36 76\\n6 2 2 0 0\\n8 17', 'output': '5222'},\n",
       "  {'input': '47 16 44 78 111\\n7 9 8 0 2\\n1 19', 'output': '3288'},\n",
       "  {'input': '7 54 39 102 31\\n6 0 2 10 1\\n18 3', 'output': '6610'},\n",
       "  {'input': '0 46 86 72 40\\n1 5 5 5 9\\n6 5', 'output': '4924'},\n",
       "  {'input': '114 4 45 78 113\\n0 4 8 10 2\\n10 12', 'output': '4432'},\n",
       "  {'input': '56 56 96 105 107\\n4 9 10 4 8\\n2 1', 'output': '3104'},\n",
       "  {'input': '113 107 59 50 56\\n3 7 10 6 3\\n10 12', 'output': '4586'},\n",
       "  {'input': '96 104 9 94 84\\n6 10 7 8 3\\n14 11', 'output': '4754'},\n",
       "  {'input': '98 15 116 43 55\\n4 3 0 9 3\\n10 7', 'output': '5400'},\n",
       "  {'input': '0 26 99 108 35\\n0 4 3 0 10\\n9 5', 'output': '5388'},\n",
       "  {'input': '89 24 51 49 84\\n5 6 2 2 9\\n2 14', 'output': '4066'},\n",
       "  {'input': '57 51 76 45 96\\n1 0 4 3 6\\n12 15', 'output': '5156'},\n",
       "  {'input': '79 112 37 36 116\\n2 8 4 7 5\\n4 12', 'output': '3872'},\n",
       "  {'input': '71 42 60 20 7\\n7 1 1 10 6\\n1 7', 'output': '5242'},\n",
       "  {'input': '86 10 66 80 55\\n0 2 5 10 5\\n15 6', 'output': '5802'},\n",
       "  {'input': '66 109 22 22 62\\n3 1 5 4 5\\n10 5', 'output': '5854'},\n",
       "  {'input': '97 17 43 84 58\\n2 8 3 8 6\\n10 7', 'output': '5028'},\n",
       "  {'input': '109 83 5 114 104\\n6 0 3 9 5\\n5 2', 'output': '4386'},\n",
       "  {'input': '94 18 24 91 105\\n2 0 7 10 3\\n1 4', 'output': '4118'},\n",
       "  {'input': '64 17 86 59 45\\n8 0 10 2 2\\n4 4', 'output': '5144'},\n",
       "  {'input': '70 84 31 57 2\\n7 0 0 2 7\\n12 5', 'output': '6652'},\n",
       "  {'input': '98 118 117 86 4\\n2 10 9 7 5\\n11 15', 'output': '4476'},\n",
       "  {'input': '103 110 101 97 70\\n4 2 1 0 5\\n7 5', 'output': '4678'},\n",
       "  {'input': '78 96 6 97 62\\n7 7 9 2 9\\n10 3', 'output': '4868'},\n",
       "  {'input': '95 28 3 31 115\\n1 9 0 7 3\\n10 13', 'output': '5132'},\n",
       "  {'input': '45 17 116 58 3\\n8 8 7 6 4\\n3 19', 'output': '3992'},\n",
       "  {'input': '19 12 0 113 77\\n3 0 10 9 2\\n8 6', 'output': '5040'},\n",
       "  {'input': '0 0 0 0 0\\n0 0 0 0 0\\n0 0', 'output': '7500'},\n",
       "  {'input': '0 0 0 0 0\\n0 0 0 0 0\\n20 0', 'output': '9500'},\n",
       "  {'input': '119 119 119 119 119\\n10 10 10 10 10\\n0 20', 'output': '1310'},\n",
       "  {'input': '0 0 0 0 0\\n10 10 10 10 10\\n0 20', 'output': '4150'},\n",
       "  {'input': '119 0 0 0 0\\n10 0 0 0 0\\n5 5', 'output': '7400'},\n",
       "  {'input': '0 119 0 0 0\\n0 10 0 0 0\\n5 5', 'output': '7050'},\n",
       "  {'input': '0 0 119 0 0\\n0 0 10 0 0\\n0 0', 'output': '6450'},\n",
       "  {'input': '0 0 0 119 0\\n0 0 0 10 0\\n5 5', 'output': '6350'},\n",
       "  {'input': '0 0 0 0 119\\n0 0 0 0 10\\n5 5', 'output': '6060'},\n",
       "  {'input': '119 0 0 0 0\\n2 0 0 0 0\\n5 5', 'output': '7412'},\n",
       "  {'input': '0 119 0 0 0\\n0 2 0 0 0\\n5 5', 'output': '7174'},\n",
       "  {'input': '0 0 119 0 0\\n0 0 2 0 0\\n5 5', 'output': '6936'},\n",
       "  {'input': '0 0 0 119 0\\n0 0 0 2 0\\n5 5', 'output': '6698'},\n",
       "  {'input': '0 0 0 0 119\\n0 0 0 0 2\\n5 5', 'output': '6460'},\n",
       "  {'input': '119 0 0 0 0\\n0 0 0 0 0\\n4 9', 'output': '7212'}],\n",
       " 'creationTimeSeconds': 1629089355,\n",
       " 'relativeTimeSeconds': 2147483647,\n",
       " 'programmingLanguage': 'Python 3',\n",
       " 'verdict': 'OK',\n",
       " 'testset': 'TESTS',\n",
       " 'passedTestCount': 57,\n",
       " 'timeConsumedMillis': 77,\n",
       " 'memoryConsumedBytes': 6963200,\n",
       " 'code': 'def score(x,m,w):\\r\\n    t=(1-(m/250))*x - (50*w)\\r\\n    return max(0.3*x,t)\\r\\n\\r\\nsl=[500,1000,1500,2000,2500]\\r\\nm=list(map(int, input().split()))\\r\\nw=list(map(int, input().split()))\\r\\ns,u=map(int,input().split())\\r\\n\\r\\nres=0\\r\\n\\r\\nfor i in range(5):\\r\\n    res+=score(sl[i],m[i],w[i])\\r\\nres+=(100*s)\\r\\nres-=(50*u)\\r\\nprint(int(res))',\n",
       " 'prompt': 'Title: Uncowed Forces\\n\\nTime Limit: None seconds\\n\\nMemory Limit: None megabytes\\n\\nProblem Description:\\nKevin Sun has just finished competing in Codeforces Round #334! The round was 120 minutes long and featured five problems with maximum point values of 500, 1000, 1500, 2000, and 2500, respectively. Despite the challenging tasks, Kevin was uncowed and bulldozed through all of them, distinguishing himself from the herd as the best cowmputer scientist in all of Bovinia. Kevin knows his submission time for each problem, the number of wrong submissions that he made on each problem, and his total numbers of successful and unsuccessful hacks. Because Codeforces scoring is complicated, Kevin wants you to write a program to compute his final score.\\n\\nCodeforces scores are computed as follows: If the maximum point value of a problem is *x*, and Kevin submitted correctly at minute *m* but made *w* wrong submissions, then his score on that problem is . His total score is equal to the sum of his scores for each problem. In addition, Kevin\\'s total score gets increased by 100 points for each successful hack, but gets decreased by 50 points for each unsuccessful hack.\\n\\nAll arithmetic operations are performed with absolute precision and no rounding. It is guaranteed that Kevin\\'s final score is an integer.\\n\\nInput Specification:\\nThe first line of the input contains five space-separated integers *m*1, *m*2, *m*3, *m*4, *m*5, where *m**i* (0<=≤<=*m**i*<=≤<=119) is the time of Kevin\\'s last submission for problem *i*. His last submission is always correct and gets accepted.\\n\\nThe second line contains five space-separated integers *w*1, *w*2, *w*3, *w*4, *w*5, where *w**i* (0<=≤<=*w**i*<=≤<=10) is Kevin\\'s number of wrong submissions on problem *i*.\\n\\nThe last line contains two space-separated integers *h**s* and *h**u* (0<=≤<=*h**s*,<=*h**u*<=≤<=20), denoting the Kevin\\'s numbers of successful and unsuccessful hacks, respectively.\\n\\nOutput Specification:\\nPrint a single integer, the value of Kevin\\'s final score.\\n\\nDemo Input:\\n[\\'20 40 60 80 100\\\\n0 1 2 3 4\\\\n1 0\\\\n\\', \\'119 119 119 119 119\\\\n0 0 0 0 0\\\\n10 0\\\\n\\']\\n\\nDemo Output:\\n[\\'4900\\\\n\\', \\'4930\\\\n\\']\\n\\nNote:\\nIn the second sample, Kevin takes 119 minutes on all of the problems. Therefore, he gets <img align=\"middle\" class=\"tex-formula\" src=\"https://espresso.codeforces.com/42158dc2bc78cd21fa679530ae9ef8b9ea298d15.png\" style=\"max-width: 100.0%;max-height: 100.0%;\"/> of the points on each problem. So his score from solving problems is <img align=\"middle\" class=\"tex-formula\" src=\"https://espresso.codeforces.com/fdf392d8508500b57f8057ac0c4c892ab5f925a2.png\" style=\"max-width: 100.0%;max-height: 100.0%;\"/>. Adding in 10·100\\u2009=\\u20091000 points from hacks, his total score becomes 3930\\u2009+\\u20091000\\u2009=\\u20094930.',\n",
       " 'response': '```python\\ndef score(x,m,w):\\r\\n    t=(1-(m/250))*x - (50*w)\\r\\n    return max(0.3*x,t)\\r\\n\\r\\nsl=[500,1000,1500,2000,2500]\\r\\nm=list(map(int, input().split()))\\r\\nw=list(map(int, input().split()))\\r\\ns,u=map(int,input().split())\\r\\n\\r\\nres=0\\r\\n\\r\\nfor i in range(5):\\r\\n    res+=score(sl[i],m[i],w[i])\\r\\nres+=(100*s)\\r\\nres-=(50*u)\\r\\nprint(int(res))\\n```',\n",
       " 'score': 3.0}"
      ]
     },
     "execution_count": 87,
     "metadata": {},
     "output_type": "execute_result"
    }
   ],
   "source": [
    "ds[0]"
   ]
  },
  {
   "cell_type": "code",
   "execution_count": 7,
   "metadata": {},
   "outputs": [
    {
     "data": {
      "text/plain": [
       "(621356, 29)"
      ]
     },
     "execution_count": 7,
     "metadata": {},
     "output_type": "execute_result"
    }
   ],
   "source": [
    "ds.shape"
   ]
  },
  {
   "cell_type": "code",
   "execution_count": 9,
   "metadata": {},
   "outputs": [
    {
     "data": {
      "application/vnd.jupyter.widget-view+json": {
       "model_id": "5715b30125fa4b70bb379f1e832216ca",
       "version_major": 2,
       "version_minor": 0
      },
      "text/plain": [
       "Filter:   0%|          | 0/621356 [00:00<?, ? examples/s]"
      ]
     },
     "metadata": {},
     "output_type": "display_data"
    },
    {
     "data": {
      "text/plain": [
       "(274883, 29)"
      ]
     },
     "execution_count": 9,
     "metadata": {},
     "output_type": "execute_result"
    }
   ],
   "source": [
    "# filter ds where the verdict is \"OK\"\n",
    "ds = ds.filter(lambda x: x['verdict'] == \"OK\")\n",
    "ds.shape"
   ]
  },
  {
   "cell_type": "code",
   "execution_count": 10,
   "metadata": {},
   "outputs": [],
   "source": [
    "# Concatenate problem description, input-specification, output-specification, demo-input, and demo-output into one string\n",
    "problem_description = ds['problem-description']\n",
    "input_specification = ds['input-specification']\n",
    "output_specification = ds['output-specification']\n",
    "demo_input = ds['demo-input']\n",
    "demo_output = ds['demo-output']\n",
    "\n",
    "text_data = [f\"Problem Description: {desc} \\n Input Specification: {inp} \\n Output Specification: {out} \\n Demo Input: {d_in} \\n Demo Output: {d_out}\" for desc, inp, out, d_in, d_out in zip(problem_description, input_specification, output_specification, demo_input, demo_output)]\n",
    "\n",
    "# Concatenate the other code part into another string\n",
    "code_data = ds['code']\n"
   ]
  },
  {
   "cell_type": "markdown",
   "metadata": {},
   "source": [
    "### Collection Creation with Config\n",
    "We will create two collections, one for the text data and one for the code data.\n"
   ]
  },
  {
   "cell_type": "code",
   "execution_count": 15,
   "metadata": {},
   "outputs": [
    {
     "name": "stderr",
     "output_type": "stream",
     "text": [
      "/var/folders/_7/yfpb4l0n67x4d3vv8h4g_nd00000gn/T/ipykernel_23884/1260811071.py:5: DeprecationWarning: `recreate_collection` method is deprecated and will be removed in the future. Use `collection_exists` to check collection existence and `create_collection` instead.\n",
      "  client.recreate_collection(\n",
      "/var/folders/_7/yfpb4l0n67x4d3vv8h4g_nd00000gn/T/ipykernel_23884/1260811071.py:19: DeprecationWarning: `recreate_collection` method is deprecated and will be removed in the future. Use `collection_exists` to check collection existence and `create_collection` instead.\n",
      "  client.recreate_collection(\n"
     ]
    },
    {
     "data": {
      "text/plain": [
       "True"
      ]
     },
     "execution_count": 15,
     "metadata": {},
     "output_type": "execute_result"
    }
   ],
   "source": [
    "from qdrant_client import QdrantClient, models\n",
    "\n",
    "client = QdrantClient(\"localhost:6333\")\n",
    "\n",
    "client.create_collection(\n",
    "    collection_name=\"quantized_collection_for_code_search\",\n",
    "    vectors_config={\n",
    "        \"text\": models.VectorParams(size=text_embeddings_dim, distance=models.Distance.COSINE,on_disk=True),\n",
    "        \"code\": models.VectorParams(size=code_embeddings_dim, distance=models.Distance.COSINE,on_disk=True)\n",
    "    },\n",
    "    quantization_config=models.ScalarQuantization(\n",
    "        scalar=models.ScalarQuantizationConfig(\n",
    "            type=models.ScalarType.INT8,\n",
    "            quantile=0.99,\n",
    "            always_ram=True,\n",
    "        ),\n",
    "    ),\n",
    ")\n",
    "client.create_collection(\n",
    "    collection_name=\"normal_collection_for_code_search\",\n",
    "    vectors_config={\n",
    "        \"text\": models.VectorParams(size=text_embeddings_dim, distance=models.Distance.COSINE,on_disk=True),\n",
    "        \"code\": models.VectorParams(size=code_embeddings_dim, distance=models.Distance.COSINE,on_disk=True)\n",
    "    },\n",
    ")"
   ]
  },
  {
   "cell_type": "markdown",
   "metadata": {},
   "source": [
    "Notice how we keep dense vectors on disk and the quantized vectors in memory for saving memory. This approach helps in efficiently managing the memory usage while still allowing fast access to the quantized vectors.\n"
   ]
  },
  {
   "cell_type": "markdown",
   "metadata": {},
   "source": [
    "### Upsert Vectors into Qdrant Collection\n",
    "\n",
    "We create code and text vector and insert it in batches in Qdrant"
   ]
  },
  {
   "cell_type": "code",
   "execution_count": null,
   "metadata": {},
   "outputs": [],
   "source": [
    "from concurrent.futures import ThreadPoolExecutor, as_completed\n",
    "from tqdm import tqdm\n",
    "\n",
    "def create_point(text_data, code_data, i):\n",
    "    try:\n",
    "        text_vector = list(text_model.embed(text_data))[0]\n",
    "        code_vector = list(code_model.embed(code_data,max_length=1024))[0]\n",
    "    except IndexError:\n",
    "        print(f\"Error: Failed to generate embeddings for index {i}\")\n",
    "        return None\n",
    "    return models.PointStruct(\n",
    "        id=i,\n",
    "        vector={\"text\": text_vector, \"code\": code_vector},\n",
    "        payload={\"file_content\": text_data, \"code\": code_data},\n",
    "    )\n",
    "\n",
    "def create_batch_points(points, batch_size=256):\n",
    "    \"\"\"Helper function to create batches of points.\"\"\"\n",
    "    for i in range(0, len(points), batch_size):\n",
    "        yield points[i:i + batch_size]\n",
    "\n",
    "# Ensure data is non-empty and of the same length\n",
    "if not text_data or not code_data or len(text_data) != len(code_data):\n",
    "    raise ValueError(\"Text data and code data must be non-empty and of the same length.\")\n",
    "\n",
    "# Process embeddings and upsert in batches\n",
    "batch_size = 256\n",
    "for start in tqdm(range(0, len(text_data), batch_size), desc=\"Processing batches\"):\n",
    "    end = start + batch_size\n",
    "    text_batch = text_data[start:end]\n",
    "    code_batch = code_data[start:end]\n",
    "\n",
    "    print(\"Starting to create points\")\n",
    "    points = []\n",
    "    with ThreadPoolExecutor(max_workers=8) as executor:\n",
    "        futures = {executor.submit(create_point, text_batch[i], code_batch[i], start + i): i for i in range(len(text_batch))}\n",
    "        for future in tqdm(as_completed(futures), desc=\"Creating points\", total=len(text_batch)):\n",
    "            point = future.result()\n",
    "            if point is not None:\n",
    "                points.append(point)\n",
    "    print(\"Points created\")\n",
    "\n",
    "    for batch_points in create_batch_points(points, batch_size=batch_size):\n",
    "        try:\n",
    "            client.upsert(\n",
    "                collection_name=\"quantized_collection_for_code_search\",\n",
    "                points=batch_points,\n",
    "            )\n",
    "            client.upsert(\n",
    "                collection_name=\"normal_collection_for_code_search\",\n",
    "                points=batch_points,\n",
    "            )\n",
    "        except Exception as e:\n",
    "            print(f\"Error during upsert: {e}\")"
   ]
  },
  {
   "cell_type": "markdown",
   "metadata": {},
   "source": [
    "### Inference / Retrieval\n",
    "\n",
    "Let's check retrieval for a sample query"
   ]
  },
  {
   "cell_type": "code",
   "execution_count": 5,
   "metadata": {},
   "outputs": [],
   "source": [
    "query = \"Scan a binary tree in level order\"\n",
    "query_embedding = list(text_model.embed(query))\n",
    "query_code_embedding = list(code_model.embed(query))"
   ]
  },
  {
   "cell_type": "code",
   "execution_count": 6,
   "metadata": {},
   "outputs": [
    {
     "name": "stdout",
     "output_type": "stream",
     "text": [
      "Quantized search time: 0.21096587181091309 seconds\n",
      "Normal search time: 0.10556602478027344 seconds\n"
     ]
    }
   ],
   "source": [
    "import time\n",
    "from qdrant_client import QdrantClient, models\n",
    "\n",
    "client = QdrantClient(\"localhost:6333\")\n",
    "# Time profile for quantized search\n",
    "start_time = time.time()\n",
    "quantized_results = client.search(\n",
    "    collection_name=\"quantized_collection_for_code_search\",\n",
    "    query_vector={\"name\":\"text\",\"vector\":query_embedding[0]},\n",
    "    search_params=models.SearchParams(\n",
    "        quantization=models.QuantizationSearchParams(rescore=True)\n",
    "    ),\n",
    "    limit=10,\n",
    ")\n",
    "quantized_search_time = time.time() - start_time\n",
    "print(f\"Quantized search time: {quantized_search_time} seconds\")\n",
    "\n",
    "# Time profile for normal search\n",
    "start_time = time.time()\n",
    "normal_results = client.search(\n",
    "    collection_name=\"normal_collection_for_code_search\",\n",
    "    query_vector={\"name\":\"text\",\"vector\":query_embedding[0]},\n",
    "    limit=10,\n",
    ")\n",
    "normal_search_time = time.time() - start_time\n",
    "print(f\"Normal search time: {normal_search_time} seconds\")\n"
   ]
  },
  {
   "cell_type": "markdown",
   "metadata": {},
   "source": [
    "The Quantized Approach takes way less time speeding up the time by almost 3x times "
   ]
  },
  {
   "cell_type": "code",
   "execution_count": 64,
   "metadata": {},
   "outputs": [
    {
     "name": "stdout",
     "output_type": "stream",
     "text": [
      "Quantized search time: 0.04339194297790527 seconds\n",
      "Normal search time: 0.5557098388671875 seconds\n"
     ]
    }
   ],
   "source": [
    "import time\n",
    "from qdrant_client import QdrantClient, models\n",
    "\n",
    "client = QdrantClient(\"localhost:6333\")\n",
    "# Time profile for quantized search\n",
    "start_time = time.time()\n",
    "quantized_results = client.search(\n",
    "    collection_name=\"quantized_collection_for_code_search\",\n",
    "    query_vector={\"name\":\"code\",\"vector\":query_code_embedding[0]},\n",
    "    search_params=models.SearchParams(\n",
    "        quantization=models.QuantizationSearchParams(rescore=True),\n",
    "        hnsw_ef=128\n",
    "    ),\n",
    "    limit=10,\n",
    ")\n",
    "quantized_search_time = time.time() - start_time\n",
    "print(f\"Quantized search time: {quantized_search_time} seconds\")\n",
    "\n",
    "# Time profile for normal search\n",
    "start_time = time.time()\n",
    "normal_results = client.search(\n",
    "    collection_name=\"normal_collection_for_code_search\",\n",
    "    query_vector={\"name\":\"code\",\"vector\":query_code_embedding[0]},\n",
    "    search_params=models.SearchParams(\n",
    "        hnsw_ef=128\n",
    "    ),\n",
    "    limit=10,\n",
    ")\n",
    "normal_search_time = time.time() - start_time\n",
    "print(f\"Normal search time: {normal_search_time} seconds\")\n"
   ]
  },
  {
   "cell_type": "markdown",
   "metadata": {},
   "source": [
    "Here for the same query , searching over code field through quantized approach is 12x times faster!"
   ]
  },
  {
   "cell_type": "code",
   "execution_count": 65,
   "metadata": {},
   "outputs": [
    {
     "name": "stdout",
     "output_type": "stream",
     "text": [
      "+-------------------------------------------+-----------------------------+--------------------------+------------------+-----------+----------------------------------+-------------------------------+------------------+---------+\n",
      "| Query                                     |   Quantized Search Time (s) |   Normal Search Time (s) |   Difference (s) |     Scale |   Quantized Text Search Time (s) |   Normal Text Search Time (s) |   Difference (s) |   Scale |\n",
      "+===========================================+=============================+==========================+==================+===========+==================================+===============================+==================+=========+\n",
      "| sort an array using quicksort             |                   0.257229  |                1.26377   |       1.00654    |  4.91303  |                       0.0795069  |                     0.40544   |       0.325933   | 5.09943 |\n",
      "+-------------------------------------------+-----------------------------+--------------------------+------------------+-----------+----------------------------------+-------------------------------+------------------+---------+\n",
      "| implement binary search in a sorted array |                   0.0863559 |                0.652282  |       0.565926   |  7.55341  |                       0.0697982  |                     0.215206  |       0.145408   | 3.08326 |\n",
      "+-------------------------------------------+-----------------------------+--------------------------+------------------+-----------+----------------------------------+-------------------------------+------------------+---------+\n",
      "| reverse a linked list                     |                   0.0603857 |                0.574075  |       0.51369    |  9.50681  |                       0.0455692  |                     0.36357   |       0.318001   | 7.97842 |\n",
      "+-------------------------------------------+-----------------------------+--------------------------+------------------+-----------+----------------------------------+-------------------------------+------------------+---------+\n",
      "| find the depth of a binary tree           |                   0.0531209 |                0.597361  |       0.54424    | 11.2453   |                       0.033448   |                     0.23994   |       0.206492   | 7.17353 |\n",
      "+-------------------------------------------+-----------------------------+--------------------------+------------------+-----------+----------------------------------+-------------------------------+------------------+---------+\n",
      "| merge two sorted linked lists             |                   0.044955  |                0.835214  |       0.790259   | 18.5789   |                       0.0261734  |                     0.229586  |       0.203413   | 8.77174 |\n",
      "+-------------------------------------------+-----------------------------+--------------------------+------------------+-----------+----------------------------------+-------------------------------+------------------+---------+\n",
      "| detect a cycle in a graph                 |                   0.0313559 |                0.277759  |       0.246403   |  8.85828  |                       0.0266008  |                     0.152131  |       0.12553    | 5.71903 |\n",
      "+-------------------------------------------+-----------------------------+--------------------------+------------------+-----------+----------------------------------+-------------------------------+------------------+---------+\n",
      "| find the median of two sorted arrays      |                   0.038574  |                0.648863  |       0.610289   | 16.8213   |                       0.00918627 |                     0.06727   |       0.0580838  | 7.32289 |\n",
      "+-------------------------------------------+-----------------------------+--------------------------+------------------+-----------+----------------------------------+-------------------------------+------------------+---------+\n",
      "| implement a stack using queues            |                   0.0374329 |                0.370707  |       0.333274   |  9.90323  |                       0.0165229  |                     0.149785  |       0.133262   | 9.06532 |\n",
      "+-------------------------------------------+-----------------------------+--------------------------+------------------+-----------+----------------------------------+-------------------------------+------------------+---------+\n",
      "| find the kth largest element in an array  |                   0.0285242 |                0.596321  |       0.567797   | 20.9058   |                       0.0278401  |                     0.170317  |       0.142477   | 6.11768 |\n",
      "+-------------------------------------------+-----------------------------+--------------------------+------------------+-----------+----------------------------------+-------------------------------+------------------+---------+\n",
      "| check if a string is a valid palindrome   |                   0.0295849 |                0.0280321 |      -0.00155282 |  0.947513 |                       0.0116098  |                     0.0204861 |       0.00887632 | 1.76455 |\n",
      "+-------------------------------------------+-----------------------------+--------------------------+------------------+-----------+----------------------------------+-------------------------------+------------------+---------+\n"
     ]
    }
   ],
   "source": [
    "# Benchmark search time for different queries and present in a tabular format\n",
    "from tabulate import tabulate\n",
    "\n",
    "queries = [\n",
    "    \"sort an array using quicksort\",\n",
    "    \"implement binary search in a sorted array\",\n",
    "    \"reverse a linked list\",\n",
    "    \"find the depth of a binary tree\",\n",
    "    \"merge two sorted linked lists\",\n",
    "    \"detect a cycle in a graph\",\n",
    "    \"find the median of two sorted arrays\",\n",
    "    \"implement a stack using queues\",\n",
    "    \"find the kth largest element in an array\",\n",
    "    \"check if a string is a valid palindrome\"\n",
    "]\n",
    "\n",
    "results_table = []\n",
    "\n",
    "for query in queries:\n",
    "    query_embedding = list(text_model.embed(query))\n",
    "    query_code_embedding = list(code_model.embed(query))\n",
    "    \n",
    "    # Time profile for quantized search\n",
    "    start_time = time.time()\n",
    "    quantized_results = client.search(\n",
    "        collection_name=\"quantized_collection_for_code_search\",\n",
    "        query_vector={\"name\":\"code\",\"vector\":query_code_embedding[0]},\n",
    "        search_params=models.SearchParams(\n",
    "            quantization=models.QuantizationSearchParams(rescore=False),\n",
    "            hnsw_ef=128\n",
    "        ),\n",
    "        score_threshold=0.5,\n",
    "        limit=100,\n",
    "\n",
    "    )\n",
    "    quantized_search_time = time.time() - start_time\n",
    "\n",
    "    # Time profile for normal search\n",
    "    start_time = time.time()\n",
    "    normal_results = client.search(\n",
    "        collection_name=\"normal_collection_for_code_search\",\n",
    "        query_vector={\"name\":\"code\",\"vector\":query_code_embedding[0]},\n",
    "        search_params=models.SearchParams(\n",
    "            hnsw_ef=128\n",
    "        ),\n",
    "        score_threshold=0.5,\n",
    "        limit=100,\n",
    "    )\n",
    "    normal_search_time = time.time() - start_time\n",
    "\n",
    "\n",
    "    # Time profile for quantized search over text fields\n",
    "    start_time = time.time()\n",
    "    quantized_results_text = client.search(\n",
    "        collection_name=\"quantized_collection_for_code_search\",\n",
    "        query_vector={\"name\":\"text\",\"vector\":query_embedding[0]},\n",
    "        search_params=models.SearchParams(\n",
    "            quantization=models.QuantizationSearchParams(rescore=False),\n",
    "            hnsw_ef=128\n",
    "        ),\n",
    "        score_threshold=0.5,\n",
    "        limit=100,\n",
    "    )\n",
    "    quantized_search_time_text = time.time() - start_time\n",
    "\n",
    "    # Time profile for normal search over text fields\n",
    "    start_time = time.time()\n",
    "    normal_results_text = client.search(\n",
    "        collection_name=\"normal_collection_for_code_search\",\n",
    "        query_vector={\"name\":\"text\",\"vector\":query_embedding[0]},\n",
    "        search_params=models.SearchParams(\n",
    "            hnsw_ef=128\n",
    "        ),\n",
    "        score_threshold=0.5,\n",
    "        limit=100,\n",
    "    )\n",
    "    normal_search_time_text = time.time() - start_time\n",
    "    # Calculate difference and scale\n",
    "    time_difference = normal_search_time - quantized_search_time\n",
    "    scale = normal_search_time / quantized_search_time if quantized_search_time != 0 else float('inf')\n",
    "    time_difference_text = normal_search_time_text - quantized_search_time_text\n",
    "    scale_text = normal_search_time_text / quantized_search_time_text if quantized_search_time_text != 0 else float('inf')\n",
    "    # Append results to the table\n",
    "    results_table.append([query, quantized_search_time, normal_search_time, time_difference, scale, quantized_search_time_text, normal_search_time_text, time_difference_text, scale_text])\n",
    "\n",
    "# Print the results in a tabular format\n",
    "headers = [\"Query\", \"Quantized Search Time (s)\", \"Normal Search Time (s)\", \"Difference (s)\", \"Scale\", \"Quantized Text Search Time (s)\", \"Normal Text Search Time (s)\", \"Difference (s)\", \"Scale\"]\n",
    "print(tabulate(results_table, headers=headers, tablefmt=\"grid\"))\n"
   ]
  },
  {
   "cell_type": "code",
   "execution_count": 98,
   "metadata": {},
   "outputs": [
    {
     "data": {
      "text/plain": [
       "[['sort an array using quicksort',\n",
       "  0.2572290897369385,\n",
       "  1.263772964477539,\n",
       "  1.0065438747406006,\n",
       "  4.913025061706539,\n",
       "  0.07950687408447266,\n",
       "  0.4054398536682129,\n",
       "  0.32593297958374023,\n",
       "  5.099431443342249],\n",
       " ['implement binary search in a sorted array',\n",
       "  0.08635592460632324,\n",
       "  0.6522817611694336,\n",
       "  0.5659258365631104,\n",
       "  7.553410656455082,\n",
       "  0.06979823112487793,\n",
       "  0.21520590782165527,\n",
       "  0.14540767669677734,\n",
       "  3.0832573312155214],\n",
       " ['reverse a linked list',\n",
       "  0.060385704040527344,\n",
       "  0.5740752220153809,\n",
       "  0.5136895179748535,\n",
       "  9.506806803645036,\n",
       "  0.04556918144226074,\n",
       "  0.3635702133178711,\n",
       "  0.31800103187561035,\n",
       "  7.9784231757276425],\n",
       " ['find the depth of a binary tree',\n",
       "  0.05312085151672363,\n",
       "  0.5973610877990723,\n",
       "  0.5442402362823486,\n",
       "  11.24532214268082,\n",
       "  0.033447980880737305,\n",
       "  0.23994016647338867,\n",
       "  0.20649218559265137,\n",
       "  7.1735321581569735],\n",
       " ['merge two sorted linked lists',\n",
       "  0.04495501518249512,\n",
       "  0.8352138996124268,\n",
       "  0.7902588844299316,\n",
       "  18.578881493463445,\n",
       "  0.02617335319519043,\n",
       "  0.22958588600158691,\n",
       "  0.20341253280639648,\n",
       "  8.771741407737363],\n",
       " ['detect a cycle in a graph',\n",
       "  0.031355857849121094,\n",
       "  0.2777590751647949,\n",
       "  0.24640321731567383,\n",
       "  8.85828340277989,\n",
       "  0.02660083770751953,\n",
       "  0.1521310806274414,\n",
       "  0.12553024291992188,\n",
       "  5.719033449252501],\n",
       " ['find the median of two sorted arrays',\n",
       "  0.0385739803314209,\n",
       "  0.6488630771636963,\n",
       "  0.6102890968322754,\n",
       "  16.821263234666947,\n",
       "  0.009186267852783203,\n",
       "  0.06727004051208496,\n",
       "  0.05808377265930176,\n",
       "  7.322891253568648],\n",
       " ['implement a stack using queues',\n",
       "  0.03743290901184082,\n",
       "  0.37070679664611816,\n",
       "  0.33327388763427734,\n",
       "  9.903232381134359,\n",
       "  0.016522884368896484,\n",
       "  0.14978528022766113,\n",
       "  0.13326239585876465,\n",
       "  9.065322790107068],\n",
       " ['find the kth largest element in an array',\n",
       "  0.028524160385131836,\n",
       "  0.5963211059570312,\n",
       "  0.5677969455718994,\n",
       "  20.905825023612703,\n",
       "  0.027840137481689453,\n",
       "  0.1703169345855713,\n",
       "  0.14247679710388184,\n",
       "  6.117675772886872],\n",
       " ['check if a string is a valid palindrome',\n",
       "  0.029584884643554688,\n",
       "  0.02803206443786621,\n",
       "  -0.0015528202056884766,\n",
       "  0.9475130552511121,\n",
       "  0.011609792709350586,\n",
       "  0.020486116409301758,\n",
       "  0.008876323699951172,\n",
       "  1.7645548824314612]]"
      ]
     },
     "execution_count": 98,
     "metadata": {},
     "output_type": "execute_result"
    }
   ],
   "source": [
    "results_table"
   ]
  },
  {
   "cell_type": "code",
   "execution_count": 103,
   "metadata": {},
   "outputs": [
    {
     "name": "stdout",
     "output_type": "stream",
     "text": [
      "Mean Quantized Code Search Time (s): 0.04558769861857096\n",
      "Mean Normal Code Search Time (s): 0.5089571211073134\n",
      "Scale: 11.164352150472027\n",
      "--------------------------------\n",
      "Mean Quantized Text Search Time (s): 0.029638740751478408\n",
      "Mean Normal Text Search Time (s): 0.1786990695529514\n",
      "Scale: 6.0292396040488905\n"
     ]
    }
   ],
   "source": [
    "import numpy as np\n",
    "# Calculate mean search times for quantized and normal search times\n",
    "mean_quantized_search_time = np.mean([row[1] for row in results_table[1:]])\n",
    "mean_normal_search_time = np.mean([row[2] for row in results_table[1:]])\n",
    "mean_quantized_search_time_text = np.mean([row[5] for row in results_table[1:]])\n",
    "mean_normal_search_time_text = np.mean([row[6] for row in results_table[1:]])\n",
    "\n",
    "print(f\"Mean Quantized Code Search Time (s): {mean_quantized_search_time}\")\n",
    "print(f\"Mean Normal Code Search Time (s): {mean_normal_search_time}\")\n",
    "print(f\"Scale: { mean_normal_search_time / mean_quantized_search_time}\")\n",
    "print(\"--------------------------------\")\n",
    "print(f\"Mean Quantized Text Search Time (s): {mean_quantized_search_time_text}\")\n",
    "print(f\"Mean Normal Text Search Time (s): {mean_normal_search_time_text}\")\n",
    "print(f\"Scale: {mean_normal_search_time_text / mean_quantized_search_time_text}\")\n"
   ]
  },
  {
   "cell_type": "code",
   "execution_count": 66,
   "metadata": {},
   "outputs": [
    {
     "name": "stdout",
     "output_type": "stream",
     "text": [
      "+----------------+-------------+-------------------+----------------+\n",
      "|   Quantized ID |   Normal ID |   Quantized Score |   Normal Score |\n",
      "+================+=============+===================+================+\n",
      "|          98250 |       98250 |          0.780283 |       0.775797 |\n",
      "+----------------+-------------+-------------------+----------------+\n",
      "|          86608 |       86608 |          0.779882 |       0.774726 |\n",
      "+----------------+-------------+-------------------+----------------+\n",
      "|         143581 |      143581 |          0.773003 |       0.771941 |\n",
      "+----------------+-------------+-------------------+----------------+\n",
      "|          29766 |       29766 |          0.764984 |       0.762938 |\n",
      "+----------------+-------------+-------------------+----------------+\n",
      "|         178999 |      178999 |          0.759316 |       0.757656 |\n",
      "+----------------+-------------+-------------------+----------------+\n",
      "|          12739 |       12739 |          0.758219 |       0.756247 |\n",
      "+----------------+-------------+-------------------+----------------+\n",
      "|         242368 |      242368 |          0.754978 |       0.754506 |\n",
      "+----------------+-------------+-------------------+----------------+\n",
      "|         172441 |      172441 |          0.747869 |       0.744932 |\n",
      "+----------------+-------------+-------------------+----------------+\n",
      "|         188076 |      188076 |          0.74547  |       0.743616 |\n",
      "+----------------+-------------+-------------------+----------------+\n",
      "|          44547 |       44547 |          0.74082  |       0.739338 |\n",
      "+----------------+-------------+-------------------+----------------+\n",
      "|         255823 |      255823 |          0.731295 |       0.729295 |\n",
      "+----------------+-------------+-------------------+----------------+\n",
      "|         216241 |      216241 |          0.727804 |       0.724849 |\n",
      "+----------------+-------------+-------------------+----------------+\n",
      "|         211182 |      211182 |          0.724302 |       0.723108 |\n",
      "+----------------+-------------+-------------------+----------------+\n",
      "|          59934 |       59934 |          0.723625 |       0.722013 |\n",
      "+----------------+-------------+-------------------+----------------+\n",
      "|         226186 |      226186 |          0.722572 |       0.720446 |\n",
      "+----------------+-------------+-------------------+----------------+\n",
      "|         255264 |      255264 |          0.722189 |       0.719605 |\n",
      "+----------------+-------------+-------------------+----------------+\n",
      "|         180319 |      180319 |          0.719114 |       0.716652 |\n",
      "+----------------+-------------+-------------------+----------------+\n",
      "|          94664 |       94664 |          0.716587 |       0.713526 |\n",
      "+----------------+-------------+-------------------+----------------+\n",
      "|          90240 |       90240 |          0.713036 |       0.711033 |\n",
      "+----------------+-------------+-------------------+----------------+\n",
      "|          60471 |       60471 |          0.712793 |       0.710605 |\n",
      "+----------------+-------------+-------------------+----------------+\n",
      "|         142492 |      142492 |          0.707994 |       0.705918 |\n",
      "+----------------+-------------+-------------------+----------------+\n",
      "|         135446 |      135446 |          0.707064 |       0.704963 |\n",
      "+----------------+-------------+-------------------+----------------+\n"
     ]
    }
   ],
   "source": [
    "from tabulate import tabulate\n",
    "\n",
    "# Compare ID and score differences between quantized and normal results\n",
    "def compare_results(quantized_results, normal_results):\n",
    "    differences = []\n",
    "    for q_result, n_result in zip(quantized_results, normal_results):\n",
    "        if q_result.id == n_result.id:\n",
    "            differences.append([\n",
    "                q_result.id,\n",
    "                n_result.id,\n",
    "                q_result.score,\n",
    "                n_result.score\n",
    "            ])\n",
    "    return differences\n",
    "\n",
    "# Call the function and print differences in a tabular format\n",
    "differences = compare_results(quantized_results, normal_results)\n",
    "headers = [\"Quantized ID\", \"Normal ID\", \"Quantized Score\", \"Normal Score\"]\n",
    "print(tabulate(differences, headers=headers, tablefmt=\"grid\"))"
   ]
  },
  {
   "cell_type": "code",
   "execution_count": 73,
   "metadata": {},
   "outputs": [],
   "source": [
    "# Hybrid Search over text and code fields\n",
    "query = \"Scan a binary tree in level order\"\n",
    "query_embedding = list(text_model.embed(query))\n",
    "query_code_embedding = list(code_model.embed(query))\n",
    "\n",
    "# text based results\n",
    "text_results = client.search(\n",
    "    collection_name=\"quantized_collection_for_code_search\",\n",
    "    query_vector={\"name\":\"text\",\"vector\":query_embedding[0]},\n",
    "    limit=10,\n",
    ")\n",
    "\n",
    "# code based results\n",
    "code_results = client.search(\n",
    "    collection_name=\"quantized_collection_for_code_search\",\n",
    "    query_vector={\"name\":\"code\",\"vector\":query_code_embedding[0]},\n",
    "    limit=10,\n",
    ")\n",
    "\n",
    "# hybrid search results\n",
    "hybrid_search_results = client.query_points(\n",
    "    collection_name=\"quantized_collection_for_code_search\",\n",
    "    prefetch=[\n",
    "                models.Prefetch(\n",
    "                    query=query_embedding[0],\n",
    "                    using=\"text\",\n",
    "                    limit=10,\n",
    "                ),\n",
    "                models.Prefetch(\n",
    "                    query=query_code_embedding[0],\n",
    "                    using=\"code\",\n",
    "                    limit=10,\n",
    "                ),\n",
    "            ],\n",
    "    query=models.FusionQuery(fusion=models.Fusion.RRF),\n",
    ")\n"
   ]
  },
  {
   "cell_type": "code",
   "execution_count": 75,
   "metadata": {},
   "outputs": [
    {
     "data": {
      "text/plain": [
       "[ScoredPoint(id=124705, version=487, score=0.6409397, payload={'file_content': \"Problem Description: Let *T* be arbitrary binary tree — tree, every vertex of which has no more than two children. Given tree is rooted, so there exists only one vertex which doesn't have a parent — it's the root of a tree. Every vertex has an integer number written on it. Following algorithm is run on every value from the tree *T*:\\n 1.  Set pointer to the root of a tree. 1.  Return success if the value in the current vertex is equal to the number you are looking for 1.  Go to the left child of the vertex if the value in the current vertex is greater than the number you are looking for 1.  Go to the right child of the vertex if the value in the current vertex is less than the number you are looking for 1.  Return fail if you try to go to the vertex that doesn't exist \\nHere is the pseudo-code of the described algorithm: \\n\\nThe described algorithm works correctly if the tree is binary search tree (i.e. for each node the values of left subtree are less than the value in the node, the values of right subtree are greater than the value in the node). But it can return invalid result if tree is not a binary search tree.\\n\\nSince the given tree is not necessarily a binary search tree, not all numbers can be found this way. Your task is to calculate, how many times the search will fail being running on every value from the tree.\\n\\nIf the tree has multiple vertices with the same values on them then you should run algorithm on every one of them separately. \\n Input Specification: First line contains integer number *n* (1<=≤<=*n*<=≤<=105) — number of vertices in the tree.\\n\\nEach of the next *n* lines contains 3 numbers *v*, *l*, *r* (0<=≤<=*v*<=≤<=109) — value on current vertex, index of the left child of the vertex and index of the right child of the vertex, respectively. If some child doesn't exist then number <=-<=1 is set instead. Note that different vertices of the tree may contain the same values. \\n Output Specification: Print number of times when search algorithm will fail. \\n Demo Input: ['3\\\\n15 -1 -1\\\\n10 1 3\\\\n5 -1 -1\\\\n', '8\\\\n6 2 3\\\\n3 4 5\\\\n12 6 7\\\\n1 -1 8\\\\n4 -1 -1\\\\n5 -1 -1\\\\n14 -1 -1\\\\n2 -1 -1\\\\n'] \\n Demo Output: ['2\\\\n', '1\\\\n']\", 'code': 'from sys import stdin\\r\\ninput=lambda :stdin.readline()[:-1]\\r\\n\\r\\nn=int(input())\\r\\npar=[-1]*n\\r\\nleft=[-1]*n\\r\\nright=[-1]*n\\r\\na=[0]*n\\r\\nfor i in range(n):\\r\\n  v,l,r=map(int,input().split())\\r\\n  a[i]=v\\r\\n  l-=1\\r\\n  r-=1\\r\\n  if l!=-2:\\r\\n    par[l]=i\\r\\n    left[i]=l\\r\\n  if r!=-2:\\r\\n    par[r]=i\\r\\n    right[i]=r\\r\\n\\r\\nroot=-1\\r\\nfor i in range(n):\\r\\n  if par[i]==-1:\\r\\n    root=i\\r\\n\\r\\nok=set()\\r\\ntodo=[(root,0,10**9+10)]\\r\\nwhile todo:\\r\\n  v,L,R=todo.pop()\\r\\n  if L>R:\\r\\n    continue\\r\\n  if L<=a[v]<=R:\\r\\n    ok.add(a[v])\\r\\n  if left[v]!=-1:\\r\\n    todo.append((left[v],L,min(R,a[v]-1)))\\r\\n  if right[v]!=-1:\\r\\n    todo.append((right[v],max(a[v]+1,L),R))\\r\\n\\r\\nans=n\\r\\nfor i in a:\\r\\n  if i in ok:\\r\\n    ans-=1\\r\\n\\r\\nprint(ans)'}, vector=None, shard_key=None, order_value=None),\n",
       " ScoredPoint(id=50331, version=196, score=0.5475235, payload={'file_content': \"Problem Description: You are given a rooted tree with *n* vertices. The vertices are numbered from 1 to *n*, the root is the vertex number 1.\\n\\nEach vertex has a color, let's denote the color of vertex *v* by *c**v*. Initially *c**v*<==<=0.\\n\\nYou have to color the tree into the given colors using the smallest possible number of steps. On each step you can choose a vertex *v* and a color *x*, and then color all vectices in the subtree of *v* (including *v* itself) in color *x*. In other words, for every vertex *u*, such that the path from root to *u* passes through *v*, set *c**u*<==<=*x*.\\n\\nIt is guaranteed that you have to color each vertex in a color different from 0.\\n\\nYou can learn what a rooted tree is using the link: [https://en.wikipedia.org/wiki/Tree_(graph_theory)](https://en.wikipedia.org/wiki/Tree_(graph_theory)). \\n Input Specification: The first line contains a single integer *n* (2<=≤<=*n*<=≤<=104)\\xa0— the number of vertices in the tree.\\n\\nThe second line contains *n*<=-<=1 integers *p*2,<=*p*3,<=...,<=*p**n* (1<=≤<=*p**i*<=&lt;<=*i*), where *p**i* means that there is an edge between vertices *i* and *p**i*.\\n\\nThe third line contains *n* integers *c*1,<=*c*2,<=...,<=*c**n* (1<=≤<=*c**i*<=≤<=*n*), where *c**i* is the color you should color the *i*-th vertex into.\\n\\nIt is guaranteed that the given graph is a tree. \\n Output Specification: Print a single integer\\xa0— the minimum number of steps you have to perform to color the tree into given colors. \\n Demo Input: ['6\\\\n1 2 2 1 5\\\\n2 1 1 1 1 1\\\\n', '7\\\\n1 1 2 3 1 4\\\\n3 3 1 1 1 2 3\\\\n'] \\n Demo Output: ['3\\\\n', '5\\\\n']\", 'code': 'n = int(input())\\r\\npohon = [0,0] + list(map(int, input().split())) \\r\\nwarna = [0] + list(map(int, input().split()))\\r\\nstep = 1\\r\\nfor node in range(2, n+1, 1):\\r\\n    if warna[node] != warna[pohon[node]]:\\r\\n        step += 1\\r\\nprint(step)\\r\\n'}, vector=None, shard_key=None, order_value=None),\n",
       " ScoredPoint(id=91121, version=355, score=0.5475235, payload={'file_content': \"Problem Description: You are given a rooted tree with *n* vertices. The vertices are numbered from 1 to *n*, the root is the vertex number 1.\\n\\nEach vertex has a color, let's denote the color of vertex *v* by *c**v*. Initially *c**v*<==<=0.\\n\\nYou have to color the tree into the given colors using the smallest possible number of steps. On each step you can choose a vertex *v* and a color *x*, and then color all vectices in the subtree of *v* (including *v* itself) in color *x*. In other words, for every vertex *u*, such that the path from root to *u* passes through *v*, set *c**u*<==<=*x*.\\n\\nIt is guaranteed that you have to color each vertex in a color different from 0.\\n\\nYou can learn what a rooted tree is using the link: [https://en.wikipedia.org/wiki/Tree_(graph_theory)](https://en.wikipedia.org/wiki/Tree_(graph_theory)). \\n Input Specification: The first line contains a single integer *n* (2<=≤<=*n*<=≤<=104)\\xa0— the number of vertices in the tree.\\n\\nThe second line contains *n*<=-<=1 integers *p*2,<=*p*3,<=...,<=*p**n* (1<=≤<=*p**i*<=&lt;<=*i*), where *p**i* means that there is an edge between vertices *i* and *p**i*.\\n\\nThe third line contains *n* integers *c*1,<=*c*2,<=...,<=*c**n* (1<=≤<=*c**i*<=≤<=*n*), where *c**i* is the color you should color the *i*-th vertex into.\\n\\nIt is guaranteed that the given graph is a tree. \\n Output Specification: Print a single integer\\xa0— the minimum number of steps you have to perform to color the tree into given colors. \\n Demo Input: ['6\\\\n1 2 2 1 5\\\\n2 1 1 1 1 1\\\\n', '7\\\\n1 1 2 3 1 4\\\\n3 3 1 1 1 2 3\\\\n'] \\n Demo Output: ['3\\\\n', '5\\\\n']\", 'code': 'n = int(input())\\r\\np = list(map(int, input().split()))\\r\\nc = list(map(int, input().split()))\\r\\n\\r\\nk = 1  #  покрасили за раз все дерево\\r\\n\\r\\nfor i in range(1, n):\\r\\n    if c[i] != c[p[i-1]-1]:\\r\\n        k +=1\\r\\nprint(k)'}, vector=None, shard_key=None, order_value=None),\n",
       " ScoredPoint(id=60346, version=235, score=0.5475235, payload={'file_content': \"Problem Description: You are given a rooted tree with *n* vertices. The vertices are numbered from 1 to *n*, the root is the vertex number 1.\\n\\nEach vertex has a color, let's denote the color of vertex *v* by *c**v*. Initially *c**v*<==<=0.\\n\\nYou have to color the tree into the given colors using the smallest possible number of steps. On each step you can choose a vertex *v* and a color *x*, and then color all vectices in the subtree of *v* (including *v* itself) in color *x*. In other words, for every vertex *u*, such that the path from root to *u* passes through *v*, set *c**u*<==<=*x*.\\n\\nIt is guaranteed that you have to color each vertex in a color different from 0.\\n\\nYou can learn what a rooted tree is using the link: [https://en.wikipedia.org/wiki/Tree_(graph_theory)](https://en.wikipedia.org/wiki/Tree_(graph_theory)). \\n Input Specification: The first line contains a single integer *n* (2<=≤<=*n*<=≤<=104)\\xa0— the number of vertices in the tree.\\n\\nThe second line contains *n*<=-<=1 integers *p*2,<=*p*3,<=...,<=*p**n* (1<=≤<=*p**i*<=&lt;<=*i*), where *p**i* means that there is an edge between vertices *i* and *p**i*.\\n\\nThe third line contains *n* integers *c*1,<=*c*2,<=...,<=*c**n* (1<=≤<=*c**i*<=≤<=*n*), where *c**i* is the color you should color the *i*-th vertex into.\\n\\nIt is guaranteed that the given graph is a tree. \\n Output Specification: Print a single integer\\xa0— the minimum number of steps you have to perform to color the tree into given colors. \\n Demo Input: ['6\\\\n1 2 2 1 5\\\\n2 1 1 1 1 1\\\\n', '7\\\\n1 1 2 3 1 4\\\\n3 3 1 1 1 2 3\\\\n'] \\n Demo Output: ['3\\\\n', '5\\\\n']\", 'code': 'n = int(input())\\r\\na = list(map(int,input().split()))\\r\\nb = list(map(int,input().split()))\\r\\nans = 1\\r\\nfor i in range(n - 1):\\r\\n    if b[i+1] != b[a[i]-1]:\\r\\n        ans += 1\\r\\nprint(ans)'}, vector=None, shard_key=None, order_value=None),\n",
       " ScoredPoint(id=152431, version=595, score=0.5475235, payload={'file_content': \"Problem Description: You are given a rooted tree with *n* vertices. The vertices are numbered from 1 to *n*, the root is the vertex number 1.\\n\\nEach vertex has a color, let's denote the color of vertex *v* by *c**v*. Initially *c**v*<==<=0.\\n\\nYou have to color the tree into the given colors using the smallest possible number of steps. On each step you can choose a vertex *v* and a color *x*, and then color all vectices in the subtree of *v* (including *v* itself) in color *x*. In other words, for every vertex *u*, such that the path from root to *u* passes through *v*, set *c**u*<==<=*x*.\\n\\nIt is guaranteed that you have to color each vertex in a color different from 0.\\n\\nYou can learn what a rooted tree is using the link: [https://en.wikipedia.org/wiki/Tree_(graph_theory)](https://en.wikipedia.org/wiki/Tree_(graph_theory)). \\n Input Specification: The first line contains a single integer *n* (2<=≤<=*n*<=≤<=104)\\xa0— the number of vertices in the tree.\\n\\nThe second line contains *n*<=-<=1 integers *p*2,<=*p*3,<=...,<=*p**n* (1<=≤<=*p**i*<=&lt;<=*i*), where *p**i* means that there is an edge between vertices *i* and *p**i*.\\n\\nThe third line contains *n* integers *c*1,<=*c*2,<=...,<=*c**n* (1<=≤<=*c**i*<=≤<=*n*), where *c**i* is the color you should color the *i*-th vertex into.\\n\\nIt is guaranteed that the given graph is a tree. \\n Output Specification: Print a single integer\\xa0— the minimum number of steps you have to perform to color the tree into given colors. \\n Demo Input: ['6\\\\n1 2 2 1 5\\\\n2 1 1 1 1 1\\\\n', '7\\\\n1 1 2 3 1 4\\\\n3 3 1 1 1 2 3\\\\n'] \\n Demo Output: ['3\\\\n', '5\\\\n']\", 'code': 'n=int(input())\\r\\npi=list(map(int,input().split()))\\r\\nci=list(map(int,input().split()))\\r\\ncom=1\\r\\nfor i in range(1,n):\\r\\n      if ci[i]!=ci[pi[i-1]-1]:\\r\\n            com+=1\\r\\nprint(com)'}, vector=None, shard_key=None, order_value=None),\n",
       " ScoredPoint(id=143932, version=562, score=0.5475235, payload={'file_content': \"Problem Description: You are given a rooted tree with *n* vertices. The vertices are numbered from 1 to *n*, the root is the vertex number 1.\\n\\nEach vertex has a color, let's denote the color of vertex *v* by *c**v*. Initially *c**v*<==<=0.\\n\\nYou have to color the tree into the given colors using the smallest possible number of steps. On each step you can choose a vertex *v* and a color *x*, and then color all vectices in the subtree of *v* (including *v* itself) in color *x*. In other words, for every vertex *u*, such that the path from root to *u* passes through *v*, set *c**u*<==<=*x*.\\n\\nIt is guaranteed that you have to color each vertex in a color different from 0.\\n\\nYou can learn what a rooted tree is using the link: [https://en.wikipedia.org/wiki/Tree_(graph_theory)](https://en.wikipedia.org/wiki/Tree_(graph_theory)). \\n Input Specification: The first line contains a single integer *n* (2<=≤<=*n*<=≤<=104)\\xa0— the number of vertices in the tree.\\n\\nThe second line contains *n*<=-<=1 integers *p*2,<=*p*3,<=...,<=*p**n* (1<=≤<=*p**i*<=&lt;<=*i*), where *p**i* means that there is an edge between vertices *i* and *p**i*.\\n\\nThe third line contains *n* integers *c*1,<=*c*2,<=...,<=*c**n* (1<=≤<=*c**i*<=≤<=*n*), where *c**i* is the color you should color the *i*-th vertex into.\\n\\nIt is guaranteed that the given graph is a tree. \\n Output Specification: Print a single integer\\xa0— the minimum number of steps you have to perform to color the tree into given colors. \\n Demo Input: ['6\\\\n1 2 2 1 5\\\\n2 1 1 1 1 1\\\\n', '7\\\\n1 1 2 3 1 4\\\\n3 3 1 1 1 2 3\\\\n'] \\n Demo Output: ['3\\\\n', '5\\\\n']\", 'code': 'def bfs(endcolor):\\n    color=[0]*(n+1)\\n    endcolor=[0]+endcolor\\n    count=0\\n    visited, queue = set(), [1]\\n    while queue:\\n        #print(color,queue,count)\\n        vertex = queue.pop(0)\\n        if endcolor[vertex] != color[vertex]:\\n            color[vertex]=endcolor[vertex]\\n            count+=1\\n        if vertex not in visited:\\n            visited.add(vertex)\\n            queue.extend(g[vertex] - visited)\\n            for x in g[vertex] - visited:\\n                color[x]=color[vertex]\\n    return count\\nn=int(input())\\ng={x:set() for x in range(1,n+2)}\\ni=1\\nfor x in map(int,input().split()):\\n    i+=1\\n    g[x].add(i)\\n    #g[i].add(x)\\n#print(g)\\nprint(bfs(list(map(int,input().split()))))'}, vector=None, shard_key=None, order_value=None),\n",
       " ScoredPoint(id=95391, version=372, score=0.5475235, payload={'file_content': \"Problem Description: You are given a rooted tree with *n* vertices. The vertices are numbered from 1 to *n*, the root is the vertex number 1.\\n\\nEach vertex has a color, let's denote the color of vertex *v* by *c**v*. Initially *c**v*<==<=0.\\n\\nYou have to color the tree into the given colors using the smallest possible number of steps. On each step you can choose a vertex *v* and a color *x*, and then color all vectices in the subtree of *v* (including *v* itself) in color *x*. In other words, for every vertex *u*, such that the path from root to *u* passes through *v*, set *c**u*<==<=*x*.\\n\\nIt is guaranteed that you have to color each vertex in a color different from 0.\\n\\nYou can learn what a rooted tree is using the link: [https://en.wikipedia.org/wiki/Tree_(graph_theory)](https://en.wikipedia.org/wiki/Tree_(graph_theory)). \\n Input Specification: The first line contains a single integer *n* (2<=≤<=*n*<=≤<=104)\\xa0— the number of vertices in the tree.\\n\\nThe second line contains *n*<=-<=1 integers *p*2,<=*p*3,<=...,<=*p**n* (1<=≤<=*p**i*<=&lt;<=*i*), where *p**i* means that there is an edge between vertices *i* and *p**i*.\\n\\nThe third line contains *n* integers *c*1,<=*c*2,<=...,<=*c**n* (1<=≤<=*c**i*<=≤<=*n*), where *c**i* is the color you should color the *i*-th vertex into.\\n\\nIt is guaranteed that the given graph is a tree. \\n Output Specification: Print a single integer\\xa0— the minimum number of steps you have to perform to color the tree into given colors. \\n Demo Input: ['6\\\\n1 2 2 1 5\\\\n2 1 1 1 1 1\\\\n', '7\\\\n1 1 2 3 1 4\\\\n3 3 1 1 1 2 3\\\\n'] \\n Demo Output: ['3\\\\n', '5\\\\n']\", 'code': 'class Node():\\r\\n    def __init__(self,value,Color):\\r\\n        self.Parent = self \\r\\n        self.value =  value \\r\\n        self.Depth = 0\\r\\n        self.Color = Color \\r\\nclass DSU(object):\\r\\n    def __init__(self,n,Color):\\r\\n        self.step = 1\\r\\n        self.n = n\\r\\n        self.Nodes = [Node(i,j) for i,j in Color]\\r\\n    def find(self,Node):\\r\\n        if Node != Node.Parent:\\r\\n            Node.Parent = self.find(Node.Parent)\\r\\n        return Node.Parent\\r\\n    def Union(self,Node1,Node2):\\r\\n        X1 = self.find(Node1)\\r\\n        X2 = self.find(Node2)\\r\\n        if X1 == X2:\\r\\n            return True\\r\\n        if X1.Depth == X2.Depth :\\r\\n            X2.Parent = X1\\r\\n            if Node1.Color != Node2.Color:\\r\\n                #print(X1.Color,X2.Color)\\r\\n                self.step += 1\\r\\n            X1.Depth +=1\\r\\n            return False\\r\\n        elif X1.Depth < X2.Depth:\\r\\n            X1.Parent = X2\\r\\n            if Node1.Color != Node2.Color:\\r\\n                #print(X1.Color,X2.Color)\\r\\n                self.step += 1\\r\\n            return False\\r\\n        else:\\r\\n            X2.Parent = X1\\r\\n            if Node1.Color != Node2.Color:\\r\\n                self.step += 1\\r\\n                #print(X1.Color,X2.Color)\\r\\n            return False\\r\\n\\r\\n   # def print_all_components(self):\\r\\n     #   comps = [[] for _ in range(self.n)]\\r\\n     #   for node in self.Nodes:\\r\\n        #    comps[self.find(node).value].append(node.value)\\r\\n\\r\\n       # for i in range(n):\\r\\n            #if len(comps[i]):\\r\\n               # print (\"\\tnew component: \" + str(comps[i]))\\r\\ndef read(A,C):\\r\\n    arrows = []\\r\\n    j = 2\\r\\n    for i in A:\\r\\n        arrows.append((i,j))\\r\\n        j +=1\\r\\n    z = zip(range(0,len(A) + 2) , C)  \\r\\n    #print(z[0])\\r\\n    return arrows,z\\r\\nn = int(input()) + 1\\r\\nC = [0]\\r\\nA = list(map(int,input().strip().split()))\\r\\nC += list(map(int,input().strip().split()))\\r\\nedges,v = read(A,C)\\r\\n#for i,j in v:\\r\\n  # print(i,j)\\r\\ndsu = DSU(n,v)\\r\\nfor u,v in edges:\\r\\n   # print(u,v)\\r\\n    success = dsu.Union(dsu.Nodes[u],dsu.Nodes[v])\\r\\n   # print (\"now components are: \")\\r\\n   # dsu.print_all_components()\\r\\n    #print(\"\")\\r\\nprint(dsu.step)'}, vector=None, shard_key=None, order_value=None),\n",
       " ScoredPoint(id=60630, version=236, score=0.5475235, payload={'file_content': \"Problem Description: You are given a rooted tree with *n* vertices. The vertices are numbered from 1 to *n*, the root is the vertex number 1.\\n\\nEach vertex has a color, let's denote the color of vertex *v* by *c**v*. Initially *c**v*<==<=0.\\n\\nYou have to color the tree into the given colors using the smallest possible number of steps. On each step you can choose a vertex *v* and a color *x*, and then color all vectices in the subtree of *v* (including *v* itself) in color *x*. In other words, for every vertex *u*, such that the path from root to *u* passes through *v*, set *c**u*<==<=*x*.\\n\\nIt is guaranteed that you have to color each vertex in a color different from 0.\\n\\nYou can learn what a rooted tree is using the link: [https://en.wikipedia.org/wiki/Tree_(graph_theory)](https://en.wikipedia.org/wiki/Tree_(graph_theory)). \\n Input Specification: The first line contains a single integer *n* (2<=≤<=*n*<=≤<=104)\\xa0— the number of vertices in the tree.\\n\\nThe second line contains *n*<=-<=1 integers *p*2,<=*p*3,<=...,<=*p**n* (1<=≤<=*p**i*<=&lt;<=*i*), where *p**i* means that there is an edge between vertices *i* and *p**i*.\\n\\nThe third line contains *n* integers *c*1,<=*c*2,<=...,<=*c**n* (1<=≤<=*c**i*<=≤<=*n*), where *c**i* is the color you should color the *i*-th vertex into.\\n\\nIt is guaranteed that the given graph is a tree. \\n Output Specification: Print a single integer\\xa0— the minimum number of steps you have to perform to color the tree into given colors. \\n Demo Input: ['6\\\\n1 2 2 1 5\\\\n2 1 1 1 1 1\\\\n', '7\\\\n1 1 2 3 1 4\\\\n3 3 1 1 1 2 3\\\\n'] \\n Demo Output: ['3\\\\n', '5\\\\n']\", 'code': 'n = int(input())\\r\\nparent = [0,0] + list(map(int, input().split())) \\r\\ncolor = [0] + list(map(int, input().split()))\\r\\ncnt = 1\\r\\nfor node in range(2, n+1, 1):\\r\\n    if color[node] != color[parent[node]]:\\r\\n        cnt += 1\\r\\nprint(cnt)'}, vector=None, shard_key=None, order_value=None),\n",
       " ScoredPoint(id=144773, version=565, score=0.5475235, payload={'file_content': \"Problem Description: You are given a rooted tree with *n* vertices. The vertices are numbered from 1 to *n*, the root is the vertex number 1.\\n\\nEach vertex has a color, let's denote the color of vertex *v* by *c**v*. Initially *c**v*<==<=0.\\n\\nYou have to color the tree into the given colors using the smallest possible number of steps. On each step you can choose a vertex *v* and a color *x*, and then color all vectices in the subtree of *v* (including *v* itself) in color *x*. In other words, for every vertex *u*, such that the path from root to *u* passes through *v*, set *c**u*<==<=*x*.\\n\\nIt is guaranteed that you have to color each vertex in a color different from 0.\\n\\nYou can learn what a rooted tree is using the link: [https://en.wikipedia.org/wiki/Tree_(graph_theory)](https://en.wikipedia.org/wiki/Tree_(graph_theory)). \\n Input Specification: The first line contains a single integer *n* (2<=≤<=*n*<=≤<=104)\\xa0— the number of vertices in the tree.\\n\\nThe second line contains *n*<=-<=1 integers *p*2,<=*p*3,<=...,<=*p**n* (1<=≤<=*p**i*<=&lt;<=*i*), where *p**i* means that there is an edge between vertices *i* and *p**i*.\\n\\nThe third line contains *n* integers *c*1,<=*c*2,<=...,<=*c**n* (1<=≤<=*c**i*<=≤<=*n*), where *c**i* is the color you should color the *i*-th vertex into.\\n\\nIt is guaranteed that the given graph is a tree. \\n Output Specification: Print a single integer\\xa0— the minimum number of steps you have to perform to color the tree into given colors. \\n Demo Input: ['6\\\\n1 2 2 1 5\\\\n2 1 1 1 1 1\\\\n', '7\\\\n1 1 2 3 1 4\\\\n3 3 1 1 1 2 3\\\\n'] \\n Demo Output: ['3\\\\n', '5\\\\n']\", 'code': 'n = int(input())\\r\\np = list(map(int,input().split()))\\r\\nc = list(map(int,input().split()))\\r\\nk = 1\\r\\nfor i in range(n-1):\\r\\n    if c[i+1] != c[p[i]-1]:\\r\\n        k+= 1\\r\\nprint(k)'}, vector=None, shard_key=None, order_value=None),\n",
       " ScoredPoint(id=238903, version=933, score=0.5475235, payload={'file_content': \"Problem Description: You are given a rooted tree with *n* vertices. The vertices are numbered from 1 to *n*, the root is the vertex number 1.\\n\\nEach vertex has a color, let's denote the color of vertex *v* by *c**v*. Initially *c**v*<==<=0.\\n\\nYou have to color the tree into the given colors using the smallest possible number of steps. On each step you can choose a vertex *v* and a color *x*, and then color all vectices in the subtree of *v* (including *v* itself) in color *x*. In other words, for every vertex *u*, such that the path from root to *u* passes through *v*, set *c**u*<==<=*x*.\\n\\nIt is guaranteed that you have to color each vertex in a color different from 0.\\n\\nYou can learn what a rooted tree is using the link: [https://en.wikipedia.org/wiki/Tree_(graph_theory)](https://en.wikipedia.org/wiki/Tree_(graph_theory)). \\n Input Specification: The first line contains a single integer *n* (2<=≤<=*n*<=≤<=104)\\xa0— the number of vertices in the tree.\\n\\nThe second line contains *n*<=-<=1 integers *p*2,<=*p*3,<=...,<=*p**n* (1<=≤<=*p**i*<=&lt;<=*i*), where *p**i* means that there is an edge between vertices *i* and *p**i*.\\n\\nThe third line contains *n* integers *c*1,<=*c*2,<=...,<=*c**n* (1<=≤<=*c**i*<=≤<=*n*), where *c**i* is the color you should color the *i*-th vertex into.\\n\\nIt is guaranteed that the given graph is a tree. \\n Output Specification: Print a single integer\\xa0— the minimum number of steps you have to perform to color the tree into given colors. \\n Demo Input: ['6\\\\n1 2 2 1 5\\\\n2 1 1 1 1 1\\\\n', '7\\\\n1 1 2 3 1 4\\\\n3 3 1 1 1 2 3\\\\n'] \\n Demo Output: ['3\\\\n', '5\\\\n']\", 'code': 'import sys \\r\\nfrom collections import defaultdict\\r\\ninput = sys.stdin.readline \\r\\n\\r\\nn = int(input())\\r\\np = list(map(int, input().split()))\\r\\nc = list(map(int, input().split())) \\r\\nd = defaultdict(list)\\r\\nfor i in range(n - 1):\\r\\n    d[p[i] - 1].append(i + 1)\\r\\n\\r\\n\\r\\nans = [0] * n \\r\\nres = 0\\r\\nq = [0]\\r\\nwhile(q):\\r\\n    a = q.pop(0) \\r\\n    if(ans[a]!= c[a]):\\r\\n        ans[a] = c[a]\\r\\n        res += 1\\r\\n    for j in d[a]:\\r\\n        ans[j] = c[a]\\r\\n        q.append(j) \\r\\n    # print(ans)\\r\\n        \\r\\nprint(res)'}, vector=None, shard_key=None, order_value=None)]"
      ]
     },
     "execution_count": 75,
     "metadata": {},
     "output_type": "execute_result"
    }
   ],
   "source": [
    "text_results"
   ]
  },
  {
   "cell_type": "code",
   "execution_count": 74,
   "metadata": {},
   "outputs": [
    {
     "data": {
      "text/plain": [
       "[ScoredPoint(id=3959, version=15, score=0.62690353, payload={'file_content': \"Problem Description: Jon fought bravely to rescue the wildlings who were attacked by the white-walkers at Hardhome. On his arrival, Sam tells him that he wants to go to Oldtown to train at the Citadel to become a maester, so he can return and take the deceased Aemon's place as maester of Castle Black. Jon agrees to Sam's proposal and Sam sets off his journey to the Citadel. However becoming a trainee at the Citadel is not a cakewalk and hence the maesters at the Citadel gave Sam a problem to test his eligibility. \\n\\nInitially Sam has a list with a single element *n*. Then he has to perform certain operations on this list. In each operation Sam must remove any element *x*, such that *x*<=&gt;<=1, from the list and insert at the same position , ,  sequentially. He must continue with these operations until all the elements in the list are either 0 or 1.\\n\\nNow the masters want the total number of 1s in the range *l* to *r* (1-indexed). Sam wants to become a maester but unfortunately he cannot solve this problem. Can you help Sam to pass the eligibility test? \\n Input Specification: The first line contains three integers *n*, *l*, *r* (0<=≤<=*n*<=&lt;<=250, 0<=≤<=*r*<=-<=*l*<=≤<=105, *r*<=≥<=1, *l*<=≥<=1) – initial element and the range *l* to *r*.\\n\\nIt is guaranteed that *r* is not greater than the length of the final list. \\n Output Specification: Output the total number of 1s in the range *l* to *r* in the final sequence. \\n Demo Input: ['7 2 5\\\\n', '10 3 10\\\\n'] \\n Demo Output: ['4\\\\n', '5\\\\n']\", 'code': 'import sys  # 导入sys模块\\nsys.setrecursionlimit(10000000)\\ncnt = 0 # 计数器，记录当前处理到第几个节点\\nlevel = 0 # 层数\\nzongshu = 1 # 总节点数\\nq = [] # 存储符合条件的节点值\\n\\n# 递归函数，计算节点所在层数\\ndef init(x):\\n    global level\\n    if x == 2 or x == 3: # 如果节点是2或3，直接返回\\n        return\\n    init(x // 2) # 否则递归求解父节点\\n    level += 1 # 当前节点层数加1\\n\\n# 计算完全二叉树总节点数\\ndef count(level):\\n    global zongshu\\n    if level == 0: # 如果层数为0，总节点数为7\\n        zongshu = 7\\n        return\\n    for i in range(1, level + 3): # 否则根据层数计算总节点数\\n        zongshu *= 2\\n    zongshu -= 1 # 减去根节点\\n\\n# 递归函数，找到符合条件的节点\\ndef did(x, l, r):\\n    global cnt, level, zongshu, q\\n    if x == 1 or x == 0: # 如果节点为1或0，直接记录计数器并返回\\n        cnt += 1\\n        if cnt >= l and cnt <= r: # 如果计数器在范围内，将节点值存入q\\n            q.append(x)\\n        return\\n    level = 0\\n    zongshu = 1\\n    init(x) # 计算节点所在层数\\n    count(level) # 计算当前完全二叉树总节点数\\n    length = (zongshu - 1) // 2 # 计算左子树节点数\\n    if cnt <= r: # 如果计数器未超过范围，继续递归\\n        if cnt >= l or l <= length + cnt: # 如果计数器在范围内，递归左子树、当前节点、右子树\\n            did(x // 2, l, r)\\n            did(x % 2, l, r)\\n            did(x // 2, l, r)\\n        else: # 否则计数器加上左子树节点数，递归右子树和当前节点\\n            cnt += length\\n            did(x % 2, l, r)\\n            did(x // 2, l, r)\\n    else: # 如果计数器超过范围，直接返回\\n        return\\n\\nn, l, r = map(int, input().split())\\ndid(n, l, r)\\n\\nsum = 0\\nfor i in range(len(q)):\\n    sum += q[i]\\n\\nprint(sum) # 输出符合条件的节点值之和\\n \\t \\t\\t \\t  \\t\\t\\t\\t     \\t\\t\\t\\t\\t\\t  \\t\\t  \\t'}, vector=None, shard_key=None, order_value=None),\n",
       " ScoredPoint(id=248884, version=972, score=0.6070976, payload={'file_content': \"Problem Description: Iahub is very proud of his recent discovery, propagating trees. Right now, he invented a new tree, called xor-tree. After this new revolutionary discovery, he invented a game for kids which uses xor-trees.\\n\\nThe game is played on a tree having *n* nodes, numbered from 1 to *n*. Each node *i* has an initial value *init**i*, which is either 0 or 1. The root of the tree is node 1.\\n\\nOne can perform several (possibly, zero) operations on the tree during the game. The only available type of operation is to pick a node *x*. Right after someone has picked node *x*, the value of node *x* flips, the values of sons of *x* remain the same, the values of sons of sons of *x* flips, the values of sons of sons of sons of *x* remain the same and so on.\\n\\nThe goal of the game is to get each node *i* to have value *goal**i*, which can also be only 0 or 1. You need to reach the goal of the game by using minimum number of operations. \\n Input Specification: The first line contains an integer *n* (1<=≤<=*n*<=≤<=105). Each of the next *n*<=-<=1 lines contains two integers *u**i* and *v**i* (1<=≤<=*u**i*,<=*v**i*<=≤<=*n*; *u**i*<=≠<=*v**i*) meaning there is an edge between nodes *u**i* and *v**i*. \\n\\nThe next line contains *n* integer numbers, the *i*-th of them corresponds to *init**i* (*init**i* is either 0 or 1). The following line also contains *n* integer numbers, the *i*-th number corresponds to *goal**i* (*goal**i* is either 0 or 1). \\n Output Specification: In the first line output an integer number *cnt*, representing the minimal number of operations you perform. Each of the next *cnt* lines should contain an integer *x**i*, representing that you pick a node *x**i*. \\n Demo Input: ['10\\\\n2 1\\\\n3 1\\\\n4 2\\\\n5 1\\\\n6 2\\\\n7 5\\\\n8 6\\\\n9 8\\\\n10 5\\\\n1 0 1 1 0 1 0 1 0 1\\\\n1 0 1 0 0 1 1 1 0 1\\\\n'] \\n Demo Output: ['2\\\\n4\\\\n7\\\\n']\", 'code': '# Rishabh Rao (https://github.com/rishabhrao)\\r\\n\\r\\nfrom types import GeneratorType\\r\\nimport sys\\r\\nMOD = 1000000007\\r\\ndef inp(): return sys.stdin.readline().strip()\\r\\ndef ii(): return int(inp())\\r\\ndef iis(): return [int(i) for i in inp().split()]\\r\\n\\r\\n\\r\\n# PYRIVAL BOOTSTRAP\\r\\n# https://github.com/cheran-senthil/PyRival/blob/master/pyrival/misc/bootstrap.py\\r\\n# This decorator allows for recursion without actually doing recursion\\r\\n\\r\\n\\r\\ndef bootstrap(f, stack=[]):\\r\\n    def wrappedfunc(*args, **kwargs):\\r\\n        if stack:\\r\\n            return f(*args, **kwargs)\\r\\n        else:\\r\\n            to = f(*args, **kwargs)\\r\\n            while True:\\r\\n                if type(to) is GeneratorType:\\r\\n                    stack.append(to)\\r\\n                    to = next(to)\\r\\n                else:\\r\\n                    stack.pop()\\r\\n                    if not stack:\\r\\n                        break\\r\\n                    to = stack[-1].send(to)\\r\\n            return to\\r\\n\\r\\n    return wrappedfunc\\r\\n######################\\r\\n\\r\\n\\r\\nn = ii()\\r\\ngraph = [[] for _ in range(n + 1)]\\r\\nfor _ in range(n - 1):\\r\\n    u, v = iis()\\r\\n    graph[u].append(v)\\r\\n    graph[v].append(u)\\r\\ninits = iis()\\r\\ngoals = iis()\\r\\n\\r\\nvisited = [0 for _ in range(n + 1)]\\r\\nvisited[1] = 1\\r\\nans = 0\\r\\nout = []\\r\\n\\r\\n\\r\\n@bootstrap\\r\\ndef dfs(node, level, levelCntsPar):\\r\\n    levelCnts = levelCntsPar[::]\\r\\n    if (inits[node - 1] + levelCnts[level % 2] % 2) % 2 != goals[node - 1]:\\r\\n        out.append(node)\\r\\n        global ans\\r\\n        ans += 1\\r\\n        levelCnts[level % 2] += 1\\r\\n    for child in graph[node]:\\r\\n        if not visited[child]:\\r\\n            visited[child] = 1\\r\\n            yield dfs(child, level + 1, levelCnts)\\r\\n    yield\\r\\n\\r\\n\\r\\ndfs(1, 0, [0, 0])\\r\\n\\r\\nprint(ans)\\r\\nfor el in out:\\r\\n    print(el)\\r\\n'}, vector=None, shard_key=None, order_value=None),\n",
       " ScoredPoint(id=211046, version=824, score=0.59194946, payload={'file_content': \"Problem Description: In Arcady's garden there grows a peculiar apple-tree that fruits one time per year. Its peculiarity can be explained in following way: there are *n* inflorescences, numbered from 1 to *n*. Inflorescence number 1 is situated near base of tree and any other inflorescence with number *i* (*i*<=&gt;<=1) is situated at the top of branch, which bottom is *p**i*-th inflorescence and *p**i*<=&lt;<=*i*.\\n\\nOnce tree starts fruiting, there appears exactly one apple in each inflorescence. The same moment as apples appear, they start to roll down along branches to the very base of tree. Each second all apples, except ones in first inflorescence simultaneously roll down one branch closer to tree base, e.g. apple in *a*-th inflorescence gets to *p**a*-th inflorescence. Apples that end up in first inflorescence are gathered by Arcady in exactly the same moment. Second peculiarity of this tree is that once two apples are in same inflorescence they annihilate. This happens with each pair of apples, e.g. if there are 5 apples in same inflorescence in same time, only one will not be annihilated and if there are 8 apples, all apples will be annihilated. Thus, there can be no more than one apple in each inflorescence in each moment of time.\\n\\nHelp Arcady with counting number of apples he will be able to collect from first inflorescence during one harvest. \\n Input Specification: First line of input contains single integer number *n* (2<=≤<=*n*<=≤<=100<=000) \\xa0— number of inflorescences.\\n\\nSecond line of input contains sequence of *n*<=-<=1 integer numbers *p*2,<=*p*3,<=...,<=*p**n* (1<=≤<=*p**i*<=&lt;<=*i*), where *p**i* is number of inflorescence into which the apple from *i*-th inflorescence rolls down. \\n Output Specification: Single line of output should contain one integer number: amount of apples that Arcady will be able to collect from first inflorescence during one harvest. \\n Demo Input: ['3\\\\n1 1\\\\n', '5\\\\n1 2 2 2\\\\n', '18\\\\n1 1 1 4 4 3 2 2 2 10 8 9 9 9 10 10 4\\\\n'] \\n Demo Output: ['1\\\\n', '3\\\\n', '4\\\\n']\", 'code': 'tree = []\\r\\n\\r\\n\\r\\nclass Node:\\r\\n    def __init__(self, num):\\r\\n        self.parent = num - 1\\r\\n        self.length = 0\\r\\n\\r\\n    def add_to_tree(self):\\r\\n        if self.parent < 0:\\r\\n            return\\r\\n        self.length = tree[self.parent].length + 1\\r\\n\\r\\n\\r\\ndef main():\\r\\n    n = int(input())\\r\\n    global tree\\r\\n    tree = [Node(0)] + [Node(int(x)) for x in input().split()]\\r\\n\\r\\n    for i in tree:\\r\\n        i.add_to_tree()\\r\\n\\r\\n    amount = [0] * n\\r\\n    for i in [x.length for x in tree]:\\r\\n        amount[i] += 1\\r\\n\\r\\n    print(sum([x & 1 for x in amount]))\\r\\n\\r\\n\\r\\nif __name__ == \"__main__\":\\r\\n    main()\\r\\n'}, vector=None, shard_key=None, order_value=None),\n",
       " ScoredPoint(id=120520, version=470, score=0.58893585, payload={'file_content': 'Problem Description: Consider a rooted tree. A rooted tree has one special vertex called the root. All edges are directed from the root. Vertex *u* is called a child of vertex *v* and vertex *v* is called a parent of vertex *u* if there exists a directed edge from *v* to *u*. A vertex is called a leaf if it doesn\\'t have children and has a parent.\\n\\nLet\\'s call a rooted tree a spruce if its every non-leaf vertex has at least 3 leaf children. You are given a rooted tree, check whether it\\'s a spruce.\\n\\nThe definition of a rooted tree can be found [here](https://goo.gl/1dqvzz). \\n Input Specification: The first line contains one integer *n*\\xa0— the number of vertices in the tree (3<=≤<=*n*<=≤<=1<=000). Each of the next *n*<=-<=1 lines contains one integer *p**i* (1<=≤<=*i*<=≤<=*n*<=-<=1)\\xa0— the index of the parent of the *i*<=+<=1-th vertex (1<=≤<=*p**i*<=≤<=*i*).\\n\\nVertex 1 is the root. It\\'s guaranteed that the root has at least 2 children. \\n Output Specification: Print \"Yes\" if the tree is a spruce and \"No\" otherwise. \\n Demo Input: [\\'4\\\\n1\\\\n1\\\\n1\\\\n\\', \\'7\\\\n1\\\\n1\\\\n1\\\\n2\\\\n2\\\\n2\\\\n\\', \\'8\\\\n1\\\\n1\\\\n1\\\\n1\\\\n3\\\\n3\\\\n3\\\\n\\'] \\n Demo Output: [\\'Yes\\\\n\\', \\'No\\\\n\\', \\'Yes\\\\n\\']', 'code': \"n = int(input())\\r\\ntree = [[] for i in range(n)]\\r\\nfor i in range(1, n):\\r\\n    tree[int(input()) - 1].append(i)\\r\\n\\r\\nfor children in tree:\\r\\n    if len(children) != 0: # вершина не является листом\\r\\n        leafs = 0\\r\\n        for child in children:\\r\\n            if len(tree[child]) == 0:\\r\\n                leafs += 1\\r\\n        if leafs < 3:\\r\\n            print('No')\\r\\n            break\\r\\nelse:\\r\\n    print('Yes')\"}, vector=None, shard_key=None, order_value=None),\n",
       " ScoredPoint(id=122374, version=478, score=0.585701, payload={'file_content': 'Problem Description: Author has gone out of the stories about Vasiliy, so here is just a formal task description.\\n\\nYou are given *q* queries and a multiset *A*, initially containing only integer 0. There are three types of queries:\\n 1.  \"+ x\"\\xa0— add integer *x* to multiset *A*.1.  \"- x\"\\xa0— erase one occurrence of integer *x* from multiset *A*. It\\'s guaranteed that at least one *x* is present in the multiset *A* before this query.1.  \"? x\"\\xa0— you are given integer *x* and need to compute the value , i.e. the maximum value of bitwise exclusive OR (also know as XOR) of integer *x* and some integer *y* from the multiset *A*.\\nMultiset is a set, where equal elements are allowed. \\n Input Specification: The first line of the input contains a single integer *q* (1<=≤<=*q*<=≤<=200<=000)\\xa0— the number of queries Vasiliy has to perform.\\n\\nEach of the following *q* lines of the input contains one of three characters \\'+\\', \\'-\\' or \\'?\\' and an integer *x**i* (1<=≤<=*x**i*<=≤<=109). It\\'s guaranteed that there is at least one query of the third type.\\n\\nNote, that the integer 0 will always be present in the set *A*. \\n Output Specification: For each query of the type \\'?\\' print one integer\\xa0— the maximum value of bitwise exclusive OR (XOR) of integer *x**i* and some integer from the multiset *A*. \\n Demo Input: [\\'10\\\\n+ 8\\\\n+ 9\\\\n+ 11\\\\n+ 6\\\\n+ 1\\\\n? 3\\\\n- 8\\\\n? 3\\\\n? 8\\\\n? 11\\\\n\\'] \\n Demo Output: [\\'11\\\\n10\\\\n14\\\\n13\\\\n\\']', 'code': 'import dataclasses\\r\\n\\r\\nclass node:\\r\\n    count : int = 0\\r\\n    l : \"node\" = None\\r\\n    r : \"node\" = None\\r\\n\\r\\nclass bit_bor:\\r\\n    def __init__(self, k):\\r\\n        self.k = k\\r\\n        self.l = None\\r\\n        self.r = None\\r\\n    def add(self, x):\\r\\n        bitmask = 1 << self.k\\r\\n        current_node = self\\r\\n        while bitmask > 0:\\r\\n            if bitmask & x:\\r\\n                if current_node.r is None:\\r\\n                    current_node.r = node()\\r\\n                current_node = current_node.r\\r\\n            else:\\r\\n                if current_node.l is None:\\r\\n                    current_node.l = node()\\r\\n                current_node = current_node.l\\r\\n            current_node.count += 1\\r\\n            bitmask >>= 1\\r\\n    def remove(self, x):\\r\\n        bitmask = 1 << self.k\\r\\n        current_node = self\\r\\n        while bitmask > 0:\\r\\n            if bitmask & x:\\r\\n                if current_node.r.count == 1:\\r\\n                    current_node.r = None\\r\\n                    return\\r\\n                current_node = current_node.r\\r\\n            else:\\r\\n                if current_node.l.count == 1:\\r\\n                    current_node.l = None\\r\\n                    return\\r\\n                current_node = current_node.l\\r\\n            current_node.count -= 1\\r\\n            bitmask >>= 1\\r\\n    def query(self, x):\\r\\n        x ^= (1 << (self.k+1)) - 1\\r\\n        result = 0\\r\\n        bitmask = 1 << self.k\\r\\n        current_node = self\\r\\n        priority_node = None\\r\\n        while bitmask > 0:\\r\\n            priority_node = current_node.r if bitmask & x else current_node.l\\r\\n            nonpriority_node = current_node.l if bitmask & x else current_node.r\\r\\n            if priority_node is not None:\\r\\n                result |= bitmask\\r\\n                current_node = priority_node\\r\\n            else:\\r\\n                current_node = nonpriority_node\\r\\n            bitmask >>= 1\\r\\n        return result\\r\\n\\r\\nq = int(input())\\r\\ntree = bit_bor(31)\\r\\ntree.add(0)\\r\\nfor _ in range(q):\\r\\n    op, x = input().split()\\r\\n    x = int(x)\\r\\n    if op == \\'+\\':\\r\\n        tree.add(x)\\r\\n    elif op == \\'-\\':\\r\\n        tree.remove(x)\\r\\n    else:\\r\\n        print(tree.query(x))'}, vector=None, shard_key=None, order_value=None),\n",
       " ScoredPoint(id=273286, version=1067, score=0.58525467, payload={'file_content': \"Problem Description: There are *n* cities and *n*<=-<=1 roads in the Seven Kingdoms, each road connects two cities and we can reach any city from any other by the roads.\\n\\nTheon and Yara Greyjoy are on a horse in the first city, they are starting traveling through the roads. But the weather is foggy, so they can’t see where the horse brings them. When the horse reaches a city (including the first one), it goes to one of the cities connected to the current city. But it is a strange horse, it only goes to cities in which they weren't before. In each such city, the horse goes with equal probabilities and it stops when there are no such cities. \\n\\nLet the length of each road be 1. The journey starts in the city 1. What is the expected length (expected value of length) of their journey? You can read about expected (average) value by the link [https://en.wikipedia.org/wiki/Expected_value](https://en.wikipedia.org/wiki/Expected_value). \\n Input Specification: The first line contains a single integer *n* (1<=≤<=*n*<=≤<=100000)\\xa0— number of cities.\\n\\nThen *n*<=-<=1 lines follow. The *i*-th line of these lines contains two integers *u**i* and *v**i* (1<=≤<=*u**i*,<=*v**i*<=≤<=*n*, *u**i*<=≠<=*v**i*)\\xa0— the cities connected by the *i*-th road.\\n\\nIt is guaranteed that one can reach any city from any other by the roads. \\n Output Specification: Print a number\\xa0— the expected length of their journey. The journey starts in the city 1.\\n\\nYour answer will be considered correct if its absolute or relative error does not exceed 10<=-<=6.\\n\\nNamely: let's assume that your answer is *a*, and the answer of the jury is *b*. The checker program will consider your answer correct, if . \\n Demo Input: ['4\\\\n1 2\\\\n1 3\\\\n2 4\\\\n', '5\\\\n1 2\\\\n1 3\\\\n3 4\\\\n2 5\\\\n'] \\n Demo Output: ['1.500000000000000\\\\n', '2.000000000000000\\\\n']\", 'code': '# Rishabh Rao (https://github.com/rishabhrao)\\r\\n\\r\\nimport sys\\r\\nMOD = 1000000007\\r\\ndef inp(): return sys.stdin.readline().strip()\\r\\ndef ii(): return int(inp())\\r\\ndef iis(): return [int(i) for i in inp().split()]\\r\\n\\r\\n\\r\\n## PYRIVAL BOOTSTRAP\\r\\n# https://github.com/cheran-senthil/PyRival/blob/master/pyrival/misc/bootstrap.py\\r\\n# This decorator allows for recursion without actually doing recursion\\r\\nfrom types import GeneratorType\\r\\n\\r\\ndef bootstrap(f, stack=[]):\\r\\n    def wrappedfunc(*args, **kwargs):\\r\\n        if stack:\\r\\n            return f(*args, **kwargs)\\r\\n        else:\\r\\n            to = f(*args, **kwargs)\\r\\n            while True:\\r\\n                if type(to) is GeneratorType:\\r\\n                    stack.append(to)\\r\\n                    to = next(to)\\r\\n                else:\\r\\n                    stack.pop()\\r\\n                    if not stack:\\r\\n                        break\\r\\n                    to = stack[-1].send(to)\\r\\n            return to\\r\\n\\r\\n    return wrappedfunc\\r\\n######################\\r\\n\\r\\n\\r\\n\\r\\nn = ii()\\r\\ngraph = [[] for _ in range(n + 1)]\\r\\nfor _ in range(n - 1):\\r\\n    u, v = iis()\\r\\n    graph[u].append(v)\\r\\n    graph[v].append(u)\\r\\n\\r\\nseen = [0 for _ in range(n + 1)]\\r\\n\\r\\n\\r\\n@bootstrap\\r\\ndef dfs(node):\\r\\n    seen[node] = 1\\r\\n    s = 0\\r\\n    n = 0\\r\\n    ans = 0\\r\\n    for child in graph[node]:\\r\\n        if not seen[child]:\\r\\n            n += 1\\r\\n            s += yield dfs(child)\\r\\n    if n != 0:\\r\\n        ans = s / n\\r\\n    yield 1 + ans\\r\\n\\r\\n\\r\\nprint(dfs(1) - 1)\\r\\n'}, vector=None, shard_key=None, order_value=None),\n",
       " ScoredPoint(id=21985, version=85, score=0.5841446, payload={'file_content': \"Problem Description: Vlad likes to eat in cafes very much. During his life, he has visited cafes *n* times. Unfortunately, Vlad started to feel that his last visits are not any different from each other. To fix that Vlad had a small research.\\n\\nFirst of all, Vlad assigned individual indices to all cafes. Then, he wrote down indices of cafes he visited in a row, in order of visiting them. Now, Vlad wants to find such a cafe that his last visit to that cafe was before his last visits to every other cafe. In other words, he wants to find such a cafe that he hasn't been there for as long as possible. Help Vlad to find that cafe. \\n Input Specification: In first line there is one integer *n* (1<=≤<=*n*<=≤<=2·105)\\xa0— number of cafes indices written by Vlad.\\n\\nIn second line, *n* numbers *a*1,<=*a*2,<=...,<=*a**n* (0<=≤<=*a**i*<=≤<=2·105) are written\\xa0— indices of cafes in order of being visited by Vlad. Vlad could visit some cafes more than once. Note that in numeration, some indices could be omitted. \\n Output Specification: Print one integer\\xa0— index of the cafe that Vlad hasn't visited for as long as possible. \\n Demo Input: ['5\\\\n1 3 2 1 2\\\\n', '6\\\\n2 1 2 2 4 1\\\\n'] \\n Demo Output: ['3\\\\n', '2\\\\n']\", 'code': \"import sys,math\\nsys.setrecursionlimit(10**8)\\n'''\\ndef fun():\\n    for i in range(16):\\n        for j in range(4):\\n            if i&(1<<j):\\n                print(j,end='')\\n        print()\\nimport binarytree\\nfrom collections import deque\\nbst = binarytree.tree(height=4,is_perfect=True)\\nprint(bst)\\ndef s(bst):\\n    if bst:\\n        bst.left,bst.right = bst.right,bst.left\\n        s(bst.right)\\n        s(bst.left)\\ns(bst)\\nprint(bst)\\n'''\\nt = int(input())\\narr = list(map(int,input().split()))\\narr = arr[::-1]\\nd = {i:0 for i in set(arr)}\\nl = len(d)\\nfor i in arr:\\n    if d[i] == 0:\\n        d[i]+=1\\n        if l == 1:\\n            print(i)\\n        l-=1\\n    else:\\n        d[i]+=1\\n\"}, vector=None, shard_key=None, order_value=None),\n",
       " ScoredPoint(id=195897, version=765, score=0.5839405, payload={'file_content': \"Problem Description: There are *n* cities and *n*<=-<=1 roads in the Seven Kingdoms, each road connects two cities and we can reach any city from any other by the roads.\\n\\nTheon and Yara Greyjoy are on a horse in the first city, they are starting traveling through the roads. But the weather is foggy, so they can’t see where the horse brings them. When the horse reaches a city (including the first one), it goes to one of the cities connected to the current city. But it is a strange horse, it only goes to cities in which they weren't before. In each such city, the horse goes with equal probabilities and it stops when there are no such cities. \\n\\nLet the length of each road be 1. The journey starts in the city 1. What is the expected length (expected value of length) of their journey? You can read about expected (average) value by the link [https://en.wikipedia.org/wiki/Expected_value](https://en.wikipedia.org/wiki/Expected_value). \\n Input Specification: The first line contains a single integer *n* (1<=≤<=*n*<=≤<=100000)\\xa0— number of cities.\\n\\nThen *n*<=-<=1 lines follow. The *i*-th line of these lines contains two integers *u**i* and *v**i* (1<=≤<=*u**i*,<=*v**i*<=≤<=*n*, *u**i*<=≠<=*v**i*)\\xa0— the cities connected by the *i*-th road.\\n\\nIt is guaranteed that one can reach any city from any other by the roads. \\n Output Specification: Print a number\\xa0— the expected length of their journey. The journey starts in the city 1.\\n\\nYour answer will be considered correct if its absolute or relative error does not exceed 10<=-<=6.\\n\\nNamely: let's assume that your answer is *a*, and the answer of the jury is *b*. The checker program will consider your answer correct, if . \\n Demo Input: ['4\\\\n1 2\\\\n1 3\\\\n2 4\\\\n', '5\\\\n1 2\\\\n1 3\\\\n3 4\\\\n2 5\\\\n'] \\n Demo Output: ['1.500000000000000\\\\n', '2.000000000000000\\\\n']\", 'code': 'num = int(input())\\r\\ntree = {x: [] for x in range(1, num + 1)}\\r\\nvisited = set()\\r\\nresult = 0\\r\\nqueue = [(1, 1, 0)]\\r\\n\\r\\nfor _ in range(num - 1):\\r\\n    a, b = map(int, input().split())\\r\\n    tree[a].append(b)\\r\\n    tree[b].append(a)\\r\\n\\r\\nwhile queue:\\r\\n    u, count, level = queue.pop()\\r\\n    visited.add(u)\\r\\n    child_count = 0\\r\\n\\r\\n    for i in tree[u]:\\r\\n        if i not in visited:\\r\\n            child_count += 1\\r\\n\\r\\n    if child_count == 0:\\r\\n        result += count * level\\r\\n    else:\\r\\n        for i in tree[u]:\\r\\n            if i not in visited:\\r\\n                queue.append((i, count / child_count, level + 1))\\r\\n\\r\\nprint(result)\\r\\n'}, vector=None, shard_key=None, order_value=None),\n",
       " ScoredPoint(id=71336, version=278, score=0.58197594, payload={'file_content': 'Problem Description: Sasha is taking part in a programming competition. In one of the problems she should check if some rooted trees are isomorphic or not. She has never seen this problem before, but, being an experienced participant, she guessed that she should match trees to some sequences and then compare these sequences instead of trees. Sasha wants to match each tree with a sequence *a*0,<=*a*1,<=...,<=*a**h*, where *h* is the height of the tree, and *a**i* equals to the number of vertices that are at distance of *i* edges from root. \\n\\nUnfortunately, this time Sasha\\'s intuition was wrong, and there could be several trees matching the same sequence. To show it, you need to write a program that, given the sequence *a**i*, builds two non-isomorphic rooted trees that match that sequence, or determines that there is only one such tree.\\n\\nTwo rooted trees are isomorphic, if you can reenumerate the vertices of the first one in such a way, that the index of the root becomes equal the index of the root of the second tree, and these two trees become equal.\\n\\nThe height of a rooted tree is the maximum number of edges on a path from the root to any other vertex. \\n Input Specification: The first line contains a single integer *h* (2<=≤<=*h*<=≤<=105)\\xa0— the height of the tree.\\n\\nThe second line contains *h*<=+<=1 integers\\xa0— the sequence *a*0,<=*a*1,<=...,<=*a**h* (1<=≤<=*a**i*<=≤<=2·105). The sum of all *a**i* does not exceed 2·105. It is guaranteed that there is at least one tree matching this sequence. \\n Output Specification: If there is only one tree matching this sequence, print \"perfect\".\\n\\nOtherwise print \"ambiguous\" in the first line. In the second and in the third line print descriptions of two trees in the following format: in one line print  integers, the *k*-th of them should be the parent of vertex *k* or be equal to zero, if the *k*-th vertex is the root.\\n\\nThese treese should be non-isomorphic and should match the given sequence. \\n Demo Input: [\\'2\\\\n1 1 1\\\\n\\', \\'2\\\\n1 2 2\\\\n\\'] \\n Demo Output: [\\'perfect\\\\n\\', \\'ambiguous\\\\n0 1 1 3 3\\\\n0 1 1 3 2\\\\n\\']', 'code': \"def tree(h,a,special=False):\\r\\n    ind = 0\\r\\n\\r\\n    parent = [-1]*sum(a)\\r\\n    bottom = []\\r\\n    for i in range(a[-1]):\\r\\n        bottom.append(ind)\\r\\n        ind+=1\\r\\n    prev = bottom\\r\\n    for y in range(h-1,-1,-1):\\r\\n        root = ind\\r\\n        ind+=1\\r\\n        if special and a[y]>1 and a[y+1]>1: \\r\\n            for node in prev[1:]:\\r\\n                parent[node]=root\\r\\n            parent[prev[0]]=root+1\\r\\n            special = False\\r\\n        else:\\r\\n            for node in prev:\\r\\n                parent[node]=root\\r\\n        nextlayer = [root]\\r\\n        for i in range(a[y]-1):\\r\\n            nextlayer.append(ind)\\r\\n            ind+=1\\r\\n        prev = nextlayer\\r\\n    return parent,special\\r\\n\\r\\nh=int(input())\\r\\na = [int(x) for x in input().split()]\\r\\n\\r\\np1,special = tree(h,a)\\r\\np2,special =tree(h,a,special=True)\\r\\nif not special:\\r\\n    print('ambiguous')\\r\\n    print(*[x+1 for x in p1])\\r\\n    print(*[x+1 for x in p2])\\r\\nelse:\\r\\n    print('perfect')\\r\\n\"}, vector=None, shard_key=None, order_value=None),\n",
       " ScoredPoint(id=151386, version=591, score=0.5794716, payload={'file_content': \"Problem Description: As you might remember from our previous rounds, Vova really likes computer games. Now he is playing a strategy game known as Rage of Empires.\\n\\nIn the game Vova can hire *n* different warriors; *i*th warrior has the type *a**i*. Vova wants to create a balanced army hiring some subset of warriors. An army is called balanced if for each type of warrior present in the game there are not more than *k* warriors of this type in the army. Of course, Vova wants his army to be as large as possible.\\n\\nTo make things more complicated, Vova has to consider *q* different plans of creating his army. *i*th plan allows him to hire only warriors whose numbers are not less than *l**i* and not greater than *r**i*.\\n\\nHelp Vova to determine the largest size of a balanced army for each plan.\\n\\nBe aware that the plans are given in a modified way. See input section for details. \\n Input Specification: The first line contains two integers *n* and *k* (1<=≤<=*n*,<=*k*<=≤<=100000).\\n\\nThe second line contains *n* integers *a*1, *a*2, ... *a**n* (1<=≤<=*a**i*<=≤<=100000).\\n\\nThe third line contains one integer *q* (1<=≤<=*q*<=≤<=100000).\\n\\nThen *q* lines follow. *i*th line contains two numbers *x**i* and *y**i* which represent *i*th plan (1<=≤<=*x**i*,<=*y**i*<=≤<=*n*).\\n\\nYou have to keep track of the answer to the last plan (let's call it *last*). In the beginning *last*<==<=0. Then to restore values of *l**i* and *r**i* for the *i*th plan, you have to do the following:\\n 1.  *l**i*<==<=((*x**i*<=+<=*last*)\\xa0*mod*\\xa0*n*)<=+<=1; 1.  *r**i*<==<=((*y**i*<=+<=*last*)\\xa0*mod*\\xa0*n*)<=+<=1; 1.  If *l**i*<=&gt;<=*r**i*, swap *l**i* and *r**i*. \\n Output Specification: Print *q* numbers. *i*th number must be equal to the maximum size of a balanced army when considering *i*th plan. \\n Demo Input: ['6 2\\\\n1 1 1 2 2 2\\\\n5\\\\n1 6\\\\n4 3\\\\n1 1\\\\n2 6\\\\n2 6\\\\n'] \\n Demo Output: ['2\\\\n4\\\\n1\\\\n3\\\\n2\\\\n']\", 'code': 'class segtree():\\r\\n  def __init__(self,init,func,ide):\\r\\n    self.n=len(init)\\r\\n    self.func=func\\r\\n    self.ide=ide\\r\\n    self.size=1<<(self.n-1).bit_length()\\r\\n    self.tree=[self.ide for i in range(2*self.size)]\\r\\n    for i in range(self.n):\\r\\n      self.tree[self.size+i]=init[i]\\r\\n    for i in range(self.size-1,0,-1):\\r\\n      self.tree[i]=self.func(self.tree[2*i], self.tree[2*i|1])\\r\\n  \\r\\n  def update(self,k,x):\\r\\n    k+=self.size\\r\\n    self.tree[k]=x\\r\\n    k>>=1\\r\\n    while k:\\r\\n      self.tree[k]=self.func(self.tree[2*k],self.tree[k*2|1])\\r\\n      k>>=1\\r\\n  \\r\\n  def get(self,i):\\r\\n    return self.tree[i+self.size]\\r\\n  \\r\\n  def query(self,l,r):\\r\\n    L=l\\r\\n    l+=self.size\\r\\n    r+=self.size\\r\\n    ans=0\\r\\n    while l<r:\\r\\n      if l&1:\\r\\n        ans+=count(self.tree[l],L)\\r\\n        l+=1\\r\\n      if r&1:\\r\\n        r-=1\\r\\n        ans+=count(self.tree[r],L)\\r\\n      l>>=1\\r\\n      r>>=1\\r\\n    return ans\\r\\n  \\r\\n  def debug(self,s=10):\\r\\n    print([self.get(i) for i in range(min(self.n,s))])\\r\\n\\r\\ndef op(x,y):\\r\\n  return sorted(x+y)\\r\\n\\r\\nimport bisect\\r\\ndef count(arr,x):\\r\\n  return bisect.bisect_left(arr,x)\\r\\n\\r\\nfrom sys import stdin\\r\\ninput=lambda :stdin.readline()[:-1]\\r\\n\\r\\nn,k=map(int,input().split())\\r\\na=list(map(lambda x:int(x)-1,input().split()))\\r\\nidx=[[] for i in range(10**5)]\\r\\nb=[0]*n\\r\\nfor i in range(n):\\r\\n  if len(idx[a[i]])<k:\\r\\n    b[i]=-1\\r\\n  else:\\r\\n    b[i]=idx[a[i]][-k]\\r\\n  idx[a[i]].append(i)\\r\\n\\r\\nseg=segtree([[i] for i in b],op,[])\\r\\nlst=0\\r\\nq=int(input())\\r\\nfor _ in range(q):\\r\\n  x,y=map(int,input().split())\\r\\n  l=(x+lst)%n\\r\\n  r=(y+lst)%n\\r\\n  if l>r:\\r\\n    l,r=r,l\\r\\n  ans=seg.query(l,r+1)\\r\\n  print(ans)\\r\\n  lst=ans'}, vector=None, shard_key=None, order_value=None)]"
      ]
     },
     "execution_count": 74,
     "metadata": {},
     "output_type": "execute_result"
    }
   ],
   "source": [
    "code_results"
   ]
  },
  {
   "cell_type": "markdown",
   "metadata": {},
   "source": [
    "## Reciprocal Rank Fusion\n",
    "Reciprocal Rank Fusion (RRF) is a technique used to combine multiple rankings into a single ranking. It is a simple and effective way to improve the quality of the ranking.\n",
    "\n",
    "RRF works by assigning a score to each document based on its rank in each individual ranking. The score for a document is calculated as the sum of the reciprocal of its rank plus a constant k. The formula for the RRF score is:\n",
    " \n",
    "$$\\text{RRF score} = \\sum_{i=1}^{n} \\frac{1}{k + r_i}$$\n",
    "\n",
    "where \\( n \\) is the number of rankings, \\( r_i \\) is the rank of the document in the \\( i \\)-th ranking, and \\( k \\) is a constant (typically set to 60) to ensure that all documents receive a non-zero score.\n",
    "\n",
    "RRF does not require the rankings to be normalized or the scores to be on the same scale, making it a robust and flexible method for combining rankings from different sources."
   ]
  },
  {
   "cell_type": "code",
   "execution_count": 85,
   "metadata": {},
   "outputs": [
    {
     "data": {
      "text/plain": [
       "[(124705, 0.5),\n",
       " (3959, 0.5),\n",
       " (50331, 0.3333333333333333),\n",
       " (248884, 0.3333333333333333),\n",
       " (91121, 0.25),\n",
       " (211046, 0.25),\n",
       " (60346, 0.2),\n",
       " (120520, 0.2),\n",
       " (152431, 0.16666666666666666),\n",
       " (122374, 0.16666666666666666)]"
      ]
     },
     "execution_count": 85,
     "metadata": {},
     "output_type": "execute_result"
    }
   ],
   "source": [
    "def calculate_rrf(rankings, k=1):\n",
    "    scores = {}\n",
    "    # Initialize scores for each document\n",
    "    for ranker in rankings:\n",
    "        for document in rankings[ranker]:\n",
    "            scores[document.id] = 0\n",
    "    \n",
    "    # Calculate RRF scores\n",
    "    for ranker in rankings:\n",
    "        for i, document in enumerate(rankings[ranker]):\n",
    "            scores[document.id] += 1 / (k + i + 1)\n",
    "    \n",
    "    return scores\n",
    "\n",
    "def get_final_ranking(scores):\n",
    "    # Sort documents by scores in descending order\n",
    "    return sorted(scores.items(), key=lambda item: item[1], reverse=True)\n",
    "\n",
    "# Prepare rankings from text and code results\n",
    "rankings = {\n",
    "    \"text\": text_results,\n",
    "    \"code\": code_results\n",
    "}\n",
    "\n",
    "# Calculate RRF scores and get final ranking\n",
    "rrf_scores = calculate_rrf(rankings)\n",
    "custom_hybrid_search_results = get_final_ranking(rrf_scores)\n",
    "custom_hybrid_search_results[:10]"
   ]
  },
  {
   "cell_type": "code",
   "execution_count": 2,
   "metadata": {},
   "outputs": [
    {
     "ename": "NameError",
     "evalue": "name 'hybrid_search_results' is not defined",
     "output_type": "error",
     "traceback": [
      "\u001b[0;31m---------------------------------------------------------------------------\u001b[0m",
      "\u001b[0;31mNameError\u001b[0m                                 Traceback (most recent call last)",
      "Cell \u001b[0;32mIn[2], line 1\u001b[0m\n\u001b[0;32m----> 1\u001b[0m \u001b[43mhybrid_search_results\u001b[49m\u001b[38;5;241m.\u001b[39mpoints\n",
      "\u001b[0;31mNameError\u001b[0m: name 'hybrid_search_results' is not defined"
     ]
    }
   ],
   "source": [
    "hybrid_search_results.points"
   ]
  },
  {
   "cell_type": "code",
   "execution_count": null,
   "metadata": {},
   "outputs": [],
   "source": [
    "import openai\n",
    "from qdrant_client import QdrantClient\n",
    "\n",
    "client = QdrantClient(\"localhost:6333\")\n",
    "\n",
    "\n",
    "def fetch_results_from_qdrant(query, type, number_of_docs):\n",
    "    code_vector = list(code_model.embed(query))\n",
    "    text_vector = list(text_model.embed(query))\n",
    "    if type==\"text\":\n",
    "        search_results = client.search(\n",
    "            collection_name=\"quantized_collection_for_code_search\",\n",
    "            query_vector={\"name\":\"text\",\"vector\":text_vector[0]},\n",
    "            limit=number_of_docs,\n",
    "            search_type=\"hybrid\"\n",
    "        )\n",
    "        return [result.payload.get(\"file_content\", \"\")+\"\\n\\n\"+result.payload.get(\"code\", \"\") for result in search_results]\n",
    "    elif type==\"code\":\n",
    "        search_results = client.search(\n",
    "            collection_name=\"quantized_collection_for_code_search\",\n",
    "            query_vector={\"name\":\"code\",\"vector\":code_vector[0]},\n",
    "            limit=number_of_docs,\n",
    "            search_type=\"hybrid\"\n",
    "        )\n",
    "        return [result.payload.get(\"file_content\", \"\")+\"\\n\\n\"+result.payload.get(\"code\", \"\") for result in search_results]\n",
    "    elif type==\"hybrid\":\n",
    "        search_results = client.query_points(\n",
    "            collection_name=\"quantized_collection_for_code_search\",\n",
    "            prefetch=[\n",
    "                models.Prefetch(query=text_vector[0], using=\"text\", limit=number_of_docs),\n",
    "                models.Prefetch(query=code_vector[0], using=\"code\", limit=number_of_docs),\n",
    "            ],\n",
    "            query=models.FusionQuery(fusion=models.Fusion.RRF),\n",
    "        )\n",
    "        return [result.payload.get(\"file_content\", \"\")+\"\\n\\n\"+result.payload.get(\"code\", \"\") for result in search_results.points]\n",
    "\n",
    "def openai_call(query, type=\"hybrid\", number_of_docs=10):\n",
    "    # Fetch results from Qdrant\n",
    "    search_results = fetch_results_from_qdrant(query, type, number_of_docs)\n",
    "    \n",
    "    # Extract file content and code from the payload\n",
    "    docs = []\n",
    "    for result in search_results:\n",
    "        file_content = result.payload.get(\"file_content\", \"\")\n",
    "        code = result.payload.get(\"code\", \"\")\n",
    "        docs.append({\"file_content\": file_content, \"code\": code})\n",
    "    \n",
    "    # Prepare the answer\n",
    "    answer = {\n",
    "        \"query\": query,\n",
    "        \"type\": type,\n",
    "        \"number_of_docs\": number_of_docs,\n",
    "        \"docs_fetched\": docs\n",
    "    }\n",
    "    \n",
    "    return answer\n",
    "\n",
    "# Example usage\n",
    "query = \"example query\"\n",
    "result = openai_call(query, type=\"hybrid\", number_of_docs=10)\n",
    "print(result)\n"
   ]
  }
 ],
 "metadata": {
  "kernelspec": {
   "display_name": "service_desk_2",
   "language": "python",
   "name": "python3"
  },
  "language_info": {
   "codemirror_mode": {
    "name": "ipython",
    "version": 3
   },
   "file_extension": ".py",
   "mimetype": "text/x-python",
   "name": "python",
   "nbconvert_exporter": "python",
   "pygments_lexer": "ipython3",
   "version": "3.11.0"
  }
 },
 "nbformat": 4,
 "nbformat_minor": 2
}
